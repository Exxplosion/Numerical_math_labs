{
 "cells": [
  {
   "cell_type": "code",
   "execution_count": 8,
   "metadata": {},
   "outputs": [],
   "source": [
    "+import matplotlib.pyplot as plt\n",
    "import numpy as np\n",
    "import pandas as pd"
   ]
  },
  {
   "cell_type": "markdown",
   "metadata": {},
   "source": [
    "## Вариант 2\n",
    "    Задание 3\n",
    "## $\\frac{\\partial u}{\\partial t} = \\frac{\\partial}{\\partial x}(u^{1/2}\\frac{\\partial u}{\\partial x}) + \\frac{\\partial}{\\partial y}(u^{1/2}\\frac{\\partial u}{\\partial y}), 0<t\\leq 1, 0<x,y<1;$  \n",
    " \n",
    " $u(0,x,y) = (1+x+y)^4/441, 0 \\leq x,y \\leq 1;$  \n",
    " $u(t,0,y) = (1+y)^4/(21-20t)^2, 0<t\\leq 1, 0 < y \\leq 1;$   \n",
    " $u(t,1,y) = (2+y)^4/(21-20t)^2, 0<t\\leq 1, 0 < y \\leq 1;$  \n",
    " $u(t,x,0) = (1+x)^4/(21-20t)^2, 0<t\\leq 1, 0 < x < 1;$  \n",
    " $u(t,x,1) = (2+x)^4/(21-20t)^2, 0<t\\leq 1, 0 < x \\leq 1;$"
   ]
  },
  {
   "cell_type": "code",
   "execution_count": 9,
   "metadata": {},
   "outputs": [],
   "source": [
    "nu = 1/2\n",
    "C_z = 1\n",
    "C_t = 21"
   ]
  },
  {
   "cell_type": "markdown",
   "metadata": {},
   "source": [
    "## Аналитическое решение"
   ]
  },
  {
   "cell_type": "code",
   "execution_count": 10,
   "metadata": {},
   "outputs": [],
   "source": [
    "def analyt(t,x,y):\n",
    "    return (C_z + x + y)**(2/nu)*(C_t - 4*t*(nu+2)/nu)**(-1/nu)"
   ]
  },
  {
   "cell_type": "markdown",
   "metadata": {},
   "source": [
    "# Численное решение"
   ]
  },
  {
   "cell_type": "code",
   "execution_count": 67,
   "metadata": {},
   "outputs": [],
   "source": [
    "###\n",
    "delta = 0.0\n",
    "eps = 0.0001\n",
    "N = 1281\n",
    "L = 81\n",
    "M = 81\n",
    "###\n",
    "xl, hx = np.linspace(0, 1, L, retstep=True)\n",
    "ym, hy = np.linspace(0, 1, M, retstep=True)\n",
    "tn, dt = np.linspace(0, 1, N, retstep=True)\n",
    "\n",
    "def run(U_t, U_t_next):\n",
    "    U_k = U_t\n",
    "    u_next = np.empty(shape=(L,M))\n",
    "\n",
    "    max_diff = eps + 1\n",
    "\n",
    "    while max_diff > eps:\n",
    "        u_next = np.empty(shape=(L,M))\n",
    "        u_next[ : , 0] = U_t_next[: , 0]\n",
    "        u_next[ : , -1] = U_t_next[: , -1]\n",
    "        u_next[ 0 , :] = U_t_next[0 , :]\n",
    "        u_next[ -1 , :] = U_t_next[-1 , :]\n",
    "        for m in range(1, M-1):\n",
    "            a = np.array([-dt/(2*hx**2)*((U_k[l+1][m])**nu + (U_k[l][m])**nu) for l in range(1, L-1)])\n",
    "            c = np.array([-dt/(2*hx**2)*((U_k[l-1][m])**nu + (U_k[l][m])**nu) for l in range(1, L-1)])\n",
    "            b = -a-c+1\n",
    "            d = U_t[1:-1, m]\n",
    "            \n",
    "            alpha = [-a[0] / b[0]]\n",
    "            beta = [(d[0] - c[0] * U_t_next[0][m]) / b[0]]\n",
    "            for l in range(1, L - 2):\n",
    "                alpha.append(-a[l] / (b[l] + c[l]*alpha[l-1])) #28\n",
    "                beta.append((d[l] - c[l]*beta[l-1]) / (b[l] + c[l]*alpha[l-1]))\n",
    "            \n",
    "            for l in range(L - 2, 0, -1):\n",
    "                u_next[l][m] = alpha[l - 1] * u_next[l + 1][m] + beta[l - 1]\n",
    "\n",
    "        for l in range(1, L-1):\n",
    "            a = np.array([-dt/(2*hy**2)*((U_k[l][m+1])**nu + (U_k[l][m])**nu) for m in range(1, M-1)])\n",
    "            c = np.array([-dt/(2*hy**2)*((U_k[l][m-1])**nu + (U_k[l][m])**nu) for m in range(1, M-1)])\n",
    "            b = -a-c+1\n",
    "            d = u_next[l, 1:-1]\n",
    "\n",
    "            alpha = [-a[0] / b[0]]\n",
    "            beta = [(d[0] - c[0] * U_t_next[l][0]) / b[0]]\n",
    "\n",
    "            for l in range(1, M - 2):\n",
    "                alpha.append(-a[l] / (b[l] + c[l]*alpha[l-1]))\n",
    "                beta.append((d[l] - c[l]*beta[l-1]) / (b[l] + c[l]*alpha[l-1]))\n",
    "\n",
    "            for m in range(M - 2, 0, -1):\n",
    "                u_next[l][m] = alpha[m - 1] * u_next[l][m + 1] + beta[m - 1]\n",
    "\n",
    "        max_diff = np.max(np.abs((u_next - U_k)[1:-1] / u_next[1:-1]))\n",
    "        U_k = u_next\n",
    "        \n",
    "    return U_k"
   ]
  },
  {
   "cell_type": "code",
   "execution_count": 68,
   "metadata": {},
   "outputs": [],
   "source": [
    "U = np.zeros(shape=(N, L, M))\n",
    "U[0] = (C_z + xl + ym)**(2/nu)*C_t**(-1/nu)\n",
    "for n in range(0, N):\n",
    "    U[n, 0, :] = (C_z + ym)**(2/nu)*(C_t - 4*(nu+2)*tn[n]/nu)**(-1/nu)\n",
    "    U[n, -1, :] = (C_z + 1 + ym)**(2/nu)*(C_t - 4*(nu+2)*tn[n]/nu)**(-1/nu)\n",
    "    U[n, :, 0] = (C_z + xl)**(2/nu)*(C_t - 4*(nu+2)*tn[n]/nu)**(-1/nu)\n",
    "    U[n, :, -1] = (C_z + 1 + xl)**(2/nu)*(C_t - 4*(nu+2)*tn[n]/nu)**(-1/nu)\n"
   ]
  },
  {
   "cell_type": "code",
   "execution_count": 69,
   "metadata": {},
   "outputs": [],
   "source": [
    "for n, t in enumerate(tn[1:], 1):\n",
    "        U[n] = run(U[n-1],U[n])\n",
    "u_a = analyt(tn[-1], xl, ym[1])\n",
    "u = U[-1, :, 1]\n",
    "\n",
    "\n",
    "step_for_output = (L - 1) // 5\n"
   ]
  },
  {
   "cell_type": "code",
   "execution_count": 70,
   "metadata": {},
   "outputs": [],
   "source": [
    "tf = pd.DataFrame(columns = ym[::step_for_output], index = xl[::step_for_output])"
   ]
  },
  {
   "cell_type": "code",
   "execution_count": 71,
   "metadata": {},
   "outputs": [
    {
     "data": {
      "text/plain": [
       "16"
      ]
     },
     "execution_count": 71,
     "metadata": {},
     "output_type": "execute_result"
    }
   ],
   "source": [
    "step_for_output"
   ]
  },
  {
   "cell_type": "code",
   "execution_count": 72,
   "metadata": {},
   "outputs": [
    {
     "data": {
      "text/plain": [
       "array([0. , 0.2, 0.4, 0.6, 0.8, 1. ])"
      ]
     },
     "execution_count": 72,
     "metadata": {},
     "output_type": "execute_result"
    }
   ],
   "source": [
    "ym[::step_for_output]"
   ]
  },
  {
   "cell_type": "code",
   "execution_count": 73,
   "metadata": {},
   "outputs": [],
   "source": [
    "tf.iloc[:, :] = U[-1, ::step_for_output, ::step_for_output]"
   ]
  },
  {
   "cell_type": "code",
   "execution_count": 74,
   "metadata": {},
   "outputs": [
    {
     "data": {
      "text/html": [
       "<div>\n",
       "<style scoped>\n",
       "    .dataframe tbody tr th:only-of-type {\n",
       "        vertical-align: middle;\n",
       "    }\n",
       "\n",
       "    .dataframe tbody tr th {\n",
       "        vertical-align: top;\n",
       "    }\n",
       "\n",
       "    .dataframe thead th {\n",
       "        text-align: right;\n",
       "    }\n",
       "</style>\n",
       "<table border=\"1\" class=\"dataframe\">\n",
       "  <thead>\n",
       "    <tr style=\"text-align: right;\">\n",
       "      <th></th>\n",
       "      <th>0.0</th>\n",
       "      <th>0.2</th>\n",
       "      <th>0.4</th>\n",
       "      <th>0.6</th>\n",
       "      <th>0.8</th>\n",
       "      <th>1.0</th>\n",
       "    </tr>\n",
       "  </thead>\n",
       "  <tbody>\n",
       "    <tr>\n",
       "      <th>0.0</th>\n",
       "      <td>1.0000</td>\n",
       "      <td>2.073600</td>\n",
       "      <td>3.841600</td>\n",
       "      <td>6.553600</td>\n",
       "      <td>10.497600</td>\n",
       "      <td>16.0000</td>\n",
       "    </tr>\n",
       "    <tr>\n",
       "      <th>0.2</th>\n",
       "      <td>2.0736</td>\n",
       "      <td>1.838681</td>\n",
       "      <td>3.658965</td>\n",
       "      <td>6.547292</td>\n",
       "      <td>10.834958</td>\n",
       "      <td>23.4256</td>\n",
       "    </tr>\n",
       "    <tr>\n",
       "      <th>0.4</th>\n",
       "      <td>3.8416</td>\n",
       "      <td>3.565100</td>\n",
       "      <td>6.257840</td>\n",
       "      <td>10.269162</td>\n",
       "      <td>15.967181</td>\n",
       "      <td>33.1776</td>\n",
       "    </tr>\n",
       "    <tr>\n",
       "      <th>0.6</th>\n",
       "      <td>6.5536</td>\n",
       "      <td>7.313111</td>\n",
       "      <td>11.620615</td>\n",
       "      <td>17.625105</td>\n",
       "      <td>25.726827</td>\n",
       "      <td>45.6976</td>\n",
       "    </tr>\n",
       "    <tr>\n",
       "      <th>0.8</th>\n",
       "      <td>10.4976</td>\n",
       "      <td>13.670447</td>\n",
       "      <td>20.316639</td>\n",
       "      <td>29.148992</td>\n",
       "      <td>40.601859</td>\n",
       "      <td>61.4656</td>\n",
       "    </tr>\n",
       "    <tr>\n",
       "      <th>1.0</th>\n",
       "      <td>16.0000</td>\n",
       "      <td>23.425600</td>\n",
       "      <td>33.177600</td>\n",
       "      <td>45.697600</td>\n",
       "      <td>61.465600</td>\n",
       "      <td>81.0000</td>\n",
       "    </tr>\n",
       "  </tbody>\n",
       "</table>\n",
       "</div>"
      ],
      "text/plain": [
       "         0.0        0.2        0.4        0.6        0.8      1.0\n",
       "0.0   1.0000   2.073600   3.841600   6.553600  10.497600  16.0000\n",
       "0.2   2.0736   1.838681   3.658965   6.547292  10.834958  23.4256\n",
       "0.4   3.8416   3.565100   6.257840  10.269162  15.967181  33.1776\n",
       "0.6   6.5536   7.313111  11.620615  17.625105  25.726827  45.6976\n",
       "0.8  10.4976  13.670447  20.316639  29.148992  40.601859  61.4656\n",
       "1.0  16.0000  23.425600  33.177600  45.697600  61.465600  81.0000"
      ]
     },
     "execution_count": 74,
     "metadata": {},
     "output_type": "execute_result"
    }
   ],
   "source": [
    "tf"
   ]
  },
  {
   "cell_type": "code",
   "execution_count": 75,
   "metadata": {},
   "outputs": [],
   "source": [
    "tf_analytc = pd.DataFrame(columns = ym[::step_for_output], index = xl[::step_for_output])\n",
    "a=0\n",
    "for i in range(0, L, step_for_output): #L=M\n",
    "    tf_analytc.iloc[:, a] = analyt(1, xl[::step_for_output], ym[i])\n",
    "    a = a + 1"
   ]
  },
  {
   "cell_type": "code",
   "execution_count": 76,
   "metadata": {},
   "outputs": [
    {
     "data": {
      "text/html": [
       "<div>\n",
       "<style scoped>\n",
       "    .dataframe tbody tr th:only-of-type {\n",
       "        vertical-align: middle;\n",
       "    }\n",
       "\n",
       "    .dataframe tbody tr th {\n",
       "        vertical-align: top;\n",
       "    }\n",
       "\n",
       "    .dataframe thead th {\n",
       "        text-align: right;\n",
       "    }\n",
       "</style>\n",
       "<table border=\"1\" class=\"dataframe\">\n",
       "  <thead>\n",
       "    <tr style=\"text-align: right;\">\n",
       "      <th></th>\n",
       "      <th>0.0</th>\n",
       "      <th>0.2</th>\n",
       "      <th>0.4</th>\n",
       "      <th>0.6</th>\n",
       "      <th>0.8</th>\n",
       "      <th>1.0</th>\n",
       "    </tr>\n",
       "  </thead>\n",
       "  <tbody>\n",
       "    <tr>\n",
       "      <th>0.0</th>\n",
       "      <td>1.0000</td>\n",
       "      <td>2.0736</td>\n",
       "      <td>3.8416</td>\n",
       "      <td>6.5536</td>\n",
       "      <td>10.4976</td>\n",
       "      <td>16.0000</td>\n",
       "    </tr>\n",
       "    <tr>\n",
       "      <th>0.2</th>\n",
       "      <td>2.0736</td>\n",
       "      <td>3.8416</td>\n",
       "      <td>6.5536</td>\n",
       "      <td>10.4976</td>\n",
       "      <td>16.0000</td>\n",
       "      <td>23.4256</td>\n",
       "    </tr>\n",
       "    <tr>\n",
       "      <th>0.4</th>\n",
       "      <td>3.8416</td>\n",
       "      <td>6.5536</td>\n",
       "      <td>10.4976</td>\n",
       "      <td>16.0000</td>\n",
       "      <td>23.4256</td>\n",
       "      <td>33.1776</td>\n",
       "    </tr>\n",
       "    <tr>\n",
       "      <th>0.6</th>\n",
       "      <td>6.5536</td>\n",
       "      <td>10.4976</td>\n",
       "      <td>16.0000</td>\n",
       "      <td>23.4256</td>\n",
       "      <td>33.1776</td>\n",
       "      <td>45.6976</td>\n",
       "    </tr>\n",
       "    <tr>\n",
       "      <th>0.8</th>\n",
       "      <td>10.4976</td>\n",
       "      <td>16.0000</td>\n",
       "      <td>23.4256</td>\n",
       "      <td>33.1776</td>\n",
       "      <td>45.6976</td>\n",
       "      <td>61.4656</td>\n",
       "    </tr>\n",
       "    <tr>\n",
       "      <th>1.0</th>\n",
       "      <td>16.0000</td>\n",
       "      <td>23.4256</td>\n",
       "      <td>33.1776</td>\n",
       "      <td>45.6976</td>\n",
       "      <td>61.4656</td>\n",
       "      <td>81.0000</td>\n",
       "    </tr>\n",
       "  </tbody>\n",
       "</table>\n",
       "</div>"
      ],
      "text/plain": [
       "         0.0      0.2      0.4      0.6      0.8      1.0\n",
       "0.0   1.0000   2.0736   3.8416   6.5536  10.4976  16.0000\n",
       "0.2   2.0736   3.8416   6.5536  10.4976  16.0000  23.4256\n",
       "0.4   3.8416   6.5536  10.4976  16.0000  23.4256  33.1776\n",
       "0.6   6.5536  10.4976  16.0000  23.4256  33.1776  45.6976\n",
       "0.8  10.4976  16.0000  23.4256  33.1776  45.6976  61.4656\n",
       "1.0  16.0000  23.4256  33.1776  45.6976  61.4656  81.0000"
      ]
     },
     "execution_count": 76,
     "metadata": {},
     "output_type": "execute_result"
    }
   ],
   "source": [
    "tf_analytc"
   ]
  },
  {
   "cell_type": "code",
   "execution_count": 77,
   "metadata": {},
   "outputs": [],
   "source": [
    "diff_ = np.max(np.abs(tf.to_numpy() - tf_analytc.to_numpy()))"
   ]
  },
  {
   "cell_type": "code",
   "execution_count": 78,
   "metadata": {},
   "outputs": [
    {
     "data": {
      "text/plain": [
       "7.4584187224221346"
      ]
     },
     "execution_count": 78,
     "metadata": {},
     "output_type": "execute_result"
    }
   ],
   "source": [
    "diff_"
   ]
  },
  {
   "cell_type": "code",
   "execution_count": 79,
   "metadata": {},
   "outputs": [],
   "source": [
    "dff = tf - tf_analytc"
   ]
  },
  {
   "cell_type": "code",
   "execution_count": 80,
   "metadata": {},
   "outputs": [
    {
     "data": {
      "text/html": [
       "<div>\n",
       "<style scoped>\n",
       "    .dataframe tbody tr th:only-of-type {\n",
       "        vertical-align: middle;\n",
       "    }\n",
       "\n",
       "    .dataframe tbody tr th {\n",
       "        vertical-align: top;\n",
       "    }\n",
       "\n",
       "    .dataframe thead th {\n",
       "        text-align: right;\n",
       "    }\n",
       "</style>\n",
       "<table border=\"1\" class=\"dataframe\">\n",
       "  <thead>\n",
       "    <tr style=\"text-align: right;\">\n",
       "      <th></th>\n",
       "      <th>0.0</th>\n",
       "      <th>0.2</th>\n",
       "      <th>0.4</th>\n",
       "      <th>0.6</th>\n",
       "      <th>0.8</th>\n",
       "      <th>1.0</th>\n",
       "    </tr>\n",
       "  </thead>\n",
       "  <tbody>\n",
       "    <tr>\n",
       "      <th>0.0</th>\n",
       "      <td>0.0</td>\n",
       "      <td>0.000000</td>\n",
       "      <td>0.000000</td>\n",
       "      <td>0.000000</td>\n",
       "      <td>0.000000</td>\n",
       "      <td>0.0</td>\n",
       "    </tr>\n",
       "    <tr>\n",
       "      <th>0.2</th>\n",
       "      <td>0.0</td>\n",
       "      <td>-2.002919</td>\n",
       "      <td>-2.894635</td>\n",
       "      <td>-3.950308</td>\n",
       "      <td>-5.165042</td>\n",
       "      <td>0.0</td>\n",
       "    </tr>\n",
       "    <tr>\n",
       "      <th>0.4</th>\n",
       "      <td>0.0</td>\n",
       "      <td>-2.988500</td>\n",
       "      <td>-4.239760</td>\n",
       "      <td>-5.730838</td>\n",
       "      <td>-7.458419</td>\n",
       "      <td>0.0</td>\n",
       "    </tr>\n",
       "    <tr>\n",
       "      <th>0.6</th>\n",
       "      <td>0.0</td>\n",
       "      <td>-3.184489</td>\n",
       "      <td>-4.379385</td>\n",
       "      <td>-5.800495</td>\n",
       "      <td>-7.450773</td>\n",
       "      <td>0.0</td>\n",
       "    </tr>\n",
       "    <tr>\n",
       "      <th>0.8</th>\n",
       "      <td>0.0</td>\n",
       "      <td>-2.329553</td>\n",
       "      <td>-3.108961</td>\n",
       "      <td>-4.028608</td>\n",
       "      <td>-5.095741</td>\n",
       "      <td>0.0</td>\n",
       "    </tr>\n",
       "    <tr>\n",
       "      <th>1.0</th>\n",
       "      <td>0.0</td>\n",
       "      <td>0.000000</td>\n",
       "      <td>0.000000</td>\n",
       "      <td>0.000000</td>\n",
       "      <td>0.000000</td>\n",
       "      <td>0.0</td>\n",
       "    </tr>\n",
       "  </tbody>\n",
       "</table>\n",
       "</div>"
      ],
      "text/plain": [
       "     0.0       0.2       0.4       0.6       0.8  1.0\n",
       "0.0  0.0  0.000000  0.000000  0.000000  0.000000  0.0\n",
       "0.2  0.0 -2.002919 -2.894635 -3.950308 -5.165042  0.0\n",
       "0.4  0.0 -2.988500 -4.239760 -5.730838 -7.458419  0.0\n",
       "0.6  0.0 -3.184489 -4.379385 -5.800495 -7.450773  0.0\n",
       "0.8  0.0 -2.329553 -3.108961 -4.028608 -5.095741  0.0\n",
       "1.0  0.0  0.000000  0.000000  0.000000  0.000000  0.0"
      ]
     },
     "execution_count": 80,
     "metadata": {},
     "output_type": "execute_result"
    }
   ],
   "source": [
    "dff"
   ]
  },
  {
   "cell_type": "code",
   "execution_count": null,
   "metadata": {},
   "outputs": [],
   "source": []
  }
 ],
 "metadata": {
  "kernelspec": {
   "display_name": "Python 3",
   "language": "python",
   "name": "python3"
  },
  "language_info": {
   "codemirror_mode": {
    "name": "ipython",
    "version": 3
   },
   "file_extension": ".py",
   "mimetype": "text/x-python",
   "name": "python",
   "nbconvert_exporter": "python",
   "pygments_lexer": "ipython3",
   "version": "3.6.9"
  }
 },
 "nbformat": 4,
 "nbformat_minor": 4
}
