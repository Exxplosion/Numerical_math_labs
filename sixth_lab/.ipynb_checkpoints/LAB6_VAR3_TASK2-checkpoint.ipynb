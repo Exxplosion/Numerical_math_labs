{
 "cells": [
  {
   "cell_type": "code",
   "execution_count": 6,
   "metadata": {},
   "outputs": [],
   "source": [
    "import matplotlib.pyplot as plt\n",
    "import numpy as np\n",
    "import pandas as pd"
   ]
  },
  {
   "cell_type": "markdown",
   "metadata": {},
   "source": [
    "## Вариант 2\n",
    "    Задание 3\n",
    "## $\\frac{\\partial u}{\\partial t} = \\frac{\\partial}{\\partial x}(u^{1/2}\\frac{\\partial u}{\\partial x}) + \\frac{\\partial}{\\partial y}(u^{1/2}\\frac{\\partial u}{\\partial y}), 0<t\\leq 1, 0<x,y<1;$  \n",
    " \n",
    " $u(0,x,y) = (1+x+y)^4/441, 0 \\leq x,y \\leq 1;$  \n",
    " $u(t,0,y) = (1+y)^4/(21-20t)^2, 0<t\\leq 1, 0 < y \\leq 1;$   \n",
    " $u(t,1,y) = (2+y)^4/(21-20t)^2, 0<t\\leq 1, 0 < y \\leq 1;$  \n",
    " $u(t,x,0) = (1+x)^4/(21-20t)^2, 0<t\\leq 1, 0 < x < 1;$  \n",
    " $u(t,x,1) = (2+x)^4/(21-20t)^2, 0<t\\leq 1, 0 < x \\leq 1;$"
   ]
  },
  {
   "cell_type": "code",
   "execution_count": 7,
   "metadata": {},
   "outputs": [],
   "source": [
    "nu = 1/2\n",
    "C_z = 1\n",
    "C_t = 21"
   ]
  },
  {
   "cell_type": "markdown",
   "metadata": {},
   "source": [
    "## Аналитическое решение"
   ]
  },
  {
   "cell_type": "code",
   "execution_count": 232,
   "metadata": {},
   "outputs": [],
   "source": [
    "def analyt(t,x,y):\n",
    "    return (C_z + x + y)**(2/nu)*(C_t - 4*(nu+2)/nu*t)**(-1/nu)"
   ]
  },
  {
   "cell_type": "markdown",
   "metadata": {},
   "source": [
    "## Численное решение"
   ]
  },
  {
   "cell_type": "code",
   "execution_count": 237,
   "metadata": {},
   "outputs": [],
   "source": [
    "###\n",
    "delta = 0.01\n",
    "eps = 0.01\n",
    "N = 4\n",
    "L = 4\n",
    "M = 4\n",
    "###\n",
    "xl, hx = np.linspace(0, 1, L, retstep=True)\n",
    "ym, hy = np.linspace(0, 1, M, retstep=True)\n",
    "tn, dt = np.linspace(0, C_t*nu/(4*(nu+2))-delta, N, retstep=True)\n",
    "\n",
    "def run(U_t, U_t_next):\n",
    "    U_k = U_t\n",
    "    u_next = np.empty(shape=(L,M))\n",
    "    u_next[ : , 0] = U_t_next[: , 0]\n",
    "    u_next[ : , -1] = U_t_next[: , -1]\n",
    "    u_next[ 0 , :] = U_t_next[0 , :]\n",
    "    u_next[ -1 , :] = U_t_next[-1 , :]\n",
    "    max_diff = eps + 1\n",
    "\n",
    "    while max_diff > eps:\n",
    "        for m in range(1, M-1):\n",
    "            #for l in range(1, L-1):\n",
    "                #print('l =', l, 'm =', m, 'U_k[l+1][m] = ', (U_k[l+1][m]), 'U_k[l][m]=', U_k[l][m])\n",
    "                #print('sim = ', dt/(2*hx**2)*((U_k[l+1][m])**nu + (U_k[l][m])**nu))\n",
    "            a = np.array([-dt/(2*hx**2)*((U_k[l+1][m])**nu + (U_k[l][m])**nu) for l in range(1, L-1)])\n",
    "            c = np.array([-dt/(2*hx**2)*((U_k[l-1][m])**nu + (U_k[l][m])**nu) for l in range(1, L-1)])\n",
    "            b = -a-c+1\n",
    "            d = U_t[1:-1, m]\n",
    "            \n",
    "            #print('a =', a)\n",
    "            alpha = [-a[0] / b[0]]\n",
    "            beta = [(d[0] - c[0] * U_t[0][m]) / b[0]]\n",
    "            for l in range(1, L - 2):\n",
    "                alpha.append(-a[l] / (b[l] + c[l]*alpha[l-1])) #28\n",
    "                beta.append((d[l] - c[l]*beta[l-1]) / (b[l] + c[l]*alpha[l-1]))\n",
    "            #u_next[:, 0] = U_t_next[:, 0]\n",
    "            #u_next[0][m] = U_t_next[0][m]\n",
    "            #u_next[-1][m] = U_t_next[-1][m]\n",
    "            \n",
    "            for l in range(L - 2, 0, -1):\n",
    "                u_next[l][m] = alpha[l - 1] * u_next[l + 1][m] + beta[l - 1]\n",
    "                #print('unext', u_next[l][m], 'l+1 =', l,'m=', m)\n",
    "\n",
    "        for l in range(1, L-1):\n",
    "            a = np.array([-dt/(2*hy**2)*((U_k[l][m+1])**nu + (U_k[l][m])**nu) for m in range(1, M-1)])\n",
    "            c = np.array([-dt/(2*hy**2)*((U_k[l][m-1])**nu + (U_k[l][m])**nu) for m in range(1, M-1)])\n",
    "            b = -a-c+1\n",
    "            d = U_t[l, 1:-1]\n",
    "\n",
    "            alpha = [-a[0] / b[0]]\n",
    "            beta = [(d[0] - c[0] * U_t[l][0]) / b[0]]\n",
    "\n",
    "            for l in range(1, M - 2):\n",
    "                alpha.append(-a[l] / (b[l] + c[l]*alpha[l-1]))\n",
    "                beta.append((d[l] - c[l]*beta[l-1]) / (b[l] + c[l]*alpha[l-1]))\n",
    "\n",
    "            #u_next[l][0] = U_t_next[l][0]\n",
    "            #u_next[l][-1] = U_t_next[l][-1]\n",
    "    \n",
    "            for m in range(M - 2, 0, -1):\n",
    "                u_next[l][m] = alpha[m - 1] * u_next[l][m + 1] + beta[m - 1]\n",
    "\n",
    "        max_diff = np.max(np.abs((u_next - U_k) / u_next))\n",
    "        #print('difff', u_next)\n",
    "        U_k = u_next\n",
    "        print(u_next)\n",
    "        break\n",
    "\n",
    "    return U_k"
   ]
  },
  {
   "cell_type": "code",
   "execution_count": 238,
   "metadata": {},
   "outputs": [],
   "source": [
    "U = np.zeros(shape=(N, L, M))\n",
    "U[0] = (C_z + xl + ym)**(2/nu)*C_t**(-1/nu)\n",
    "for n in range(0, N):\n",
    "    U[n, 0, :] = (C_z + ym)**(2/nu)*(C_t - 4*(nu+2)*tn[n]/nu)**(-1/nu)\n",
    "    U[n, -1, :] = (C_z + 1 + ym)**(2/nu)*(C_t - 4*(nu+2)*tn[n]/nu)**(-1/nu)\n",
    "    U[n, :, 0] = (C_z + xl)**(2/nu)*(C_t - 4*(nu+2)*tn[n]/nu)**(-1/nu)\n",
    "    U[n, :, -1] = (C_z + 1 + xl)**(2/nu)*(C_t - 4*(nu+2)*tn[n]/nu)**(-1/nu)\n"
   ]
  },
  {
   "cell_type": "code",
   "execution_count": 244,
   "metadata": {},
   "outputs": [
    {
     "name": "stdout",
     "output_type": "stream",
     "text": [
      "t =  1\n",
      "[[0.00505379 0.01597249 0.03899533 0.08086072]\n",
      " [0.01597249 0.03964776 0.0908807  0.14980446]\n",
      " [0.03899533 0.05902286 0.1341942  0.2555598 ]\n",
      " [0.08086072 0.14980446 0.2555598  0.40935738]]\n",
      "t =  2\n",
      "[[0.01965237 0.0621112  0.15163867 0.31443794]\n",
      " [0.0621112  0.14878074 0.32257621 0.58253511]\n",
      " [0.15163867 0.26324284 0.50732541 0.99377918]\n",
      " [0.31443794 0.58253511 0.99377918 1.59184208]]\n",
      "t =  3\n",
      "[[  25.           79.01234568  192.90123457  400.        ]\n",
      " [  79.01234568  184.96719976  417.71271453  741.04938272]\n",
      " [ 192.90123457  386.97778387  706.03044302 1264.19753086]\n",
      " [ 400.          741.04938272 1264.19753086 2025.        ]]\n"
     ]
    }
   ],
   "source": [
    "for n, t in enumerate(tn[1:], 1):\n",
    "        print('t = ', n)\n",
    "        U[n] = run(U[n-1],U[n])\n",
    "u_a = analyt(tn[-1], xl, ym[1])\n",
    "u = U[-1, :, 1]\n",
    "\n",
    "\n",
    "step_for_output = (L - 1)\n",
    "\n",
    "df = pd.DataFrame(\n",
    "    {\n",
    "        'Grid': xl[::step_for_output],\n",
    "        'Model analytical': u_a[::step_for_output],\n",
    "        'Model numerical': u[::step_for_output],\n",
    "    }\n",
    ")\n",
    "#print('Значения в 11 равноудаленных точках:\\n')\n",
    "#print(df.to_string(index=False))\n"
   ]
  },
  {
   "cell_type": "code",
   "execution_count": 225,
   "metadata": {},
   "outputs": [],
   "source": [
    "V = pd.DataFrame(U[1, :, :])"
   ]
  },
  {
   "cell_type": "code",
   "execution_count": 243,
   "metadata": {},
   "outputs": [
    {
     "data": {
      "text/plain": [
       "array([0.        , 0.33333333, 0.66666667, 1.        ])"
      ]
     },
     "execution_count": 243,
     "metadata": {},
     "output_type": "execute_result"
    }
   ],
   "source": [
    "ym"
   ]
  },
  {
   "cell_type": "code",
   "execution_count": 231,
   "metadata": {},
   "outputs": [
    {
     "data": {
      "text/plain": [
       "array([[[2.26757370e-03, 7.16665267e-03, 1.74967106e-02, 3.62811791e-02],\n",
       "        [7.16665267e-03, 1.74967106e-02, 6.72153635e-02, 6.72153635e-02],\n",
       "        [1.74967106e-02, 1.74967106e-02, 6.72153635e-02, 1.14666443e-01],\n",
       "        [3.62811791e-02, 6.72153635e-02, 1.14666443e-01, 1.83673469e-01]],\n",
       "\n",
       "       [[5.05379484e-03, 1.59724874e-02, 3.89953305e-02, 8.08607174e-02],\n",
       "        [1.59724874e-02, 0.00000000e+00, 0.00000000e+00, 1.49804462e-01],\n",
       "        [3.89953305e-02, 0.00000000e+00, 0.00000000e+00, 2.55559798e-01],\n",
       "        [8.08607174e-02, 1.49804462e-01, 2.55559798e-01, 4.09357382e-01]],\n",
       "\n",
       "       [[1.96523714e-02, 6.21111985e-02, 1.51638668e-01, 3.14437942e-01],\n",
       "        [6.21111985e-02, 0.00000000e+00, 0.00000000e+00, 5.82535107e-01],\n",
       "        [1.51638668e-01, 0.00000000e+00, 0.00000000e+00, 9.93779175e-01],\n",
       "        [3.14437942e-01, 5.82535107e-01, 9.93779175e-01, 1.59184208e+00]],\n",
       "\n",
       "       [[2.50000000e+01, 7.90123457e+01, 1.92901235e+02, 4.00000000e+02],\n",
       "        [7.90123457e+01, 0.00000000e+00, 0.00000000e+00, 7.41049383e+02],\n",
       "        [1.92901235e+02, 0.00000000e+00, 0.00000000e+00, 1.26419753e+03],\n",
       "        [4.00000000e+02, 7.41049383e+02, 1.26419753e+03, 2.02500000e+03]]])"
      ]
     },
     "execution_count": 231,
     "metadata": {},
     "output_type": "execute_result"
    }
   ],
   "source": [
    "U"
   ]
  },
  {
   "cell_type": "code",
   "execution_count": 240,
   "metadata": {},
   "outputs": [
    {
     "data": {
      "text/plain": [
       "array([[[2.26757370e-03, 7.16665267e-03, 1.74967106e-02, 3.62811791e-02],\n",
       "        [7.16665267e-03, 1.74967106e-02, 6.72153635e-02, 6.72153635e-02],\n",
       "        [1.74967106e-02, 1.74967106e-02, 6.72153635e-02, 1.14666443e-01],\n",
       "        [3.62811791e-02, 6.72153635e-02, 1.14666443e-01, 1.83673469e-01]],\n",
       "\n",
       "       [[5.05379484e-03, 1.59724874e-02, 3.89953305e-02, 8.08607174e-02],\n",
       "        [1.59724874e-02, 3.96477622e-02, 9.08807037e-02, 1.49804462e-01],\n",
       "        [3.89953305e-02, 5.90228648e-02, 1.34194201e-01, 2.55559798e-01],\n",
       "        [8.08607174e-02, 1.49804462e-01, 2.55559798e-01, 4.09357382e-01]],\n",
       "\n",
       "       [[1.96523714e-02, 6.21111985e-02, 1.51638668e-01, 3.14437942e-01],\n",
       "        [6.21111985e-02, 1.48780736e-01, 3.22576214e-01, 5.82535107e-01],\n",
       "        [1.51638668e-01, 2.63242836e-01, 5.07325405e-01, 9.93779175e-01],\n",
       "        [3.14437942e-01, 5.82535107e-01, 9.93779175e-01, 1.59184208e+00]],\n",
       "\n",
       "       [[2.50000000e+01, 7.90123457e+01, 1.92901235e+02, 4.00000000e+02],\n",
       "        [7.90123457e+01, 1.84967200e+02, 4.17712715e+02, 7.41049383e+02],\n",
       "        [1.92901235e+02, 3.86977784e+02, 7.06030443e+02, 1.26419753e+03],\n",
       "        [4.00000000e+02, 7.41049383e+02, 1.26419753e+03, 2.02500000e+03]]])"
      ]
     },
     "execution_count": 240,
     "metadata": {},
     "output_type": "execute_result"
    }
   ],
   "source": [
    "U"
   ]
  },
  {
   "cell_type": "code",
   "execution_count": 245,
   "metadata": {},
   "outputs": [
    {
     "data": {
      "text/plain": [
       "array([ 79.01234568, 192.90123457, 400.        , 741.04938272])"
      ]
     },
     "execution_count": 245,
     "metadata": {},
     "output_type": "execute_result"
    }
   ],
   "source": [
    "u_a"
   ]
  },
  {
   "cell_type": "code",
   "execution_count": 246,
   "metadata": {},
   "outputs": [
    {
     "data": {
      "text/plain": [
       "array([ 79.01234568, 184.96719976, 386.97778387, 741.04938272])"
      ]
     },
     "execution_count": 246,
     "metadata": {},
     "output_type": "execute_result"
    }
   ],
   "source": [
    "u"
   ]
  },
  {
   "cell_type": "code",
   "execution_count": null,
   "metadata": {},
   "outputs": [],
   "source": []
  }
 ],
 "metadata": {
  "kernelspec": {
   "display_name": "Python 3",
   "language": "python",
   "name": "python3"
  },
  "language_info": {
   "codemirror_mode": {
    "name": "ipython",
    "version": 3
   },
   "file_extension": ".py",
   "mimetype": "text/x-python",
   "name": "python",
   "nbconvert_exporter": "python",
   "pygments_lexer": "ipython3",
   "version": "3.6.9"
  }
 },
 "nbformat": 4,
 "nbformat_minor": 4
}
