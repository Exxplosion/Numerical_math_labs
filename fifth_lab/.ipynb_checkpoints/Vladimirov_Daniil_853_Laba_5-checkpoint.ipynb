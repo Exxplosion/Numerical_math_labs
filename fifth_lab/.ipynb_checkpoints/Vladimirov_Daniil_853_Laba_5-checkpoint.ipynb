{
 "cells": [
  {
   "cell_type": "code",
   "execution_count": 1,
   "metadata": {},
   "outputs": [],
   "source": [
    "import matplotlib.pyplot as plt\n",
    "import numpy as np\n",
    "import pandas as pd\n",
    "from IPython.display import Image"
   ]
  },
  {
   "cell_type": "markdown",
   "metadata": {},
   "source": [
    "# Лабораторная работа №5 (Вариант 3, Задание 16)"
   ]
  },
  {
   "cell_type": "markdown",
   "metadata": {},
   "source": [
    "Дифференциальная задача:\n",
    "\n",
    "$$ \\frac{\\partial u}{\\partial t} - 6 \\frac{\\partial u}{\\partial x} = 0; \\hspace{1cm} 0 < t \\leq 1, \\hspace{1cm} 0 < x \\leq 1, $$\n",
    "\n",
    "\n",
    "$$ u(x, 0) = \\log (1 + x) ; \\hspace{1cm} u(1, t) = \\log (2 + 6t) $$"
   ]
  },
  {
   "cell_type": "markdown",
   "metadata": {},
   "source": [
    "Аналитическое решение и задание дополнительного условия для корректной постановки разностной задачи:"
   ]
  },
  {
   "cell_type": "markdown",
   "metadata": {},
   "source": [
    "# Введем функцию для аналитического решения задачи"
   ]
  },
  {
   "cell_type": "code",
   "execution_count": 2,
   "metadata": {},
   "outputs": [],
   "source": [
    "def U_analyt(x, t):\n",
    "    return np.exp(2*t)*(x + 4)**2"
   ]
  },
  {
   "cell_type": "markdown",
   "metadata": {},
   "source": [
    "# Введем функцию для численного решения задачи"
   ]
  },
  {
   "cell_type": "code",
   "execution_count": 3,
   "metadata": {},
   "outputs": [],
   "source": [
    "def U_numerical(L, N):\n",
    "    grid_x = np.linspace(0, 1, L + 1)\n",
    "    grid_t = np.linspace(0, 1, N + 1)\n",
    "    h = 1 / L\n",
    "    tau = 1 / N\n",
    "\n",
    "    #построим сеточную функцию из нашей дополненной разностной схемы\n",
    "#     U = np.zeros(shape = (N + 1, L + 1))\n",
    "    \n",
    "    #при t = 0\n",
    "#     for i in range(L + 1):\n",
    "    U = [(grid_x + 4)**2]\n",
    "\n",
    "    #при остальных t\n",
    "    for j in range(1, N + 1):\n",
    "        U_L = 25*np.exp(2*tau*j)\n",
    "        U_L1 = U_L - 10*np.exp(2*tau*j)*h + h**2*np.exp(2*tau*j)\n",
    "\n",
    "        U_l2 = U[-1][2:]\n",
    "        U_l1 = U[-1][1:-1]\n",
    "        U_l = U[-1][0:-2]\n",
    "\n",
    "        x_l = grid_x[:-2]\n",
    "        B1 = U_l2 - 4*U_l1 + 3*U_l\n",
    "        B2 = U_l2 - 2*U_l1 + U_l\n",
    "          \n",
    "        U_next = U_l-tau/(2*h)*(1+tau/2)*(x_l+4)*B1+tau**2/(2*h**2)*(x_l+4)**2*B2\n",
    "        U.append(np.hstack([U_next, [U_L1, U_L]]))\n",
    "\n",
    "    print(len(U))\n",
    "    return grid_x, U[-1]"
   ]
  },
  {
   "cell_type": "markdown",
   "metadata": {},
   "source": [
    "# Функция для вывода графиков и таблицы со значениями в 11 равноудаленных точках"
   ]
  },
  {
   "cell_type": "code",
   "execution_count": 4,
   "metadata": {},
   "outputs": [],
   "source": [
    "def answer(L = 10, k = 0.2):\n",
    "    N = int(L/k)\n",
    "    grid, U = U_numerical(L, N)\n",
    "    U_a = U_analyt(grid, t = 1)\n",
    "    diff = np.abs(U - U_a)\n",
    "    max_diff = np.abs(U - U_a).max()\n",
    "    \n",
    "    step = L // 10\n",
    "    df = pd.DataFrame(\n",
    "        {\n",
    "            'Сетка': grid[::step],\n",
    "            'Аналитическое решение': U_a[::step],\n",
    "            'Численное решение': U[::step],\n",
    "            'Модуль разности': diff[::step],\n",
    "        }\n",
    "    )\n",
    "    print('Значения в 11 равноудаленных точках:\\n')\n",
    "    print(df.to_string(index=False))\n",
    "    print(f'\\nМаксимальная разность:\\t{max_diff}\\n')\n",
    "\n",
    "    fig, ax = plt.subplots(figsize=(8, 6))\n",
    "    \n",
    "    ax.plot(grid, U, '-r', label='numerical solution')\n",
    "    ax.plot(grid, U_a, '--b', label='analytical solution')\n",
    "    ax.set_xlabel('$x$', fontsize=14)\n",
    "    ax.set_ylabel('$U(x, t=1)$', fontsize=14)\n",
    "    ax.legend()"
   ]
  },
  {
   "cell_type": "markdown",
   "metadata": {},
   "source": [
    "Условие устойчивости (a = a_{max} = 5): $\\frac{\\tau}{h} \\leq 0.4$. Случай, когда условия устойчивости нарушаются:"
   ]
  },
  {
   "cell_type": "code",
   "execution_count": 6,
   "metadata": {},
   "outputs": [
    {
     "name": "stdout",
     "output_type": "stream",
     "text": [
      "106\n",
      "Значения в 11 равноудаленных точках:\n",
      "\n",
      "   Сетка  Аналитическое решение  Численное решение  Модуль разности\n",
      "0.000000             118.224898         118.221888     3.009135e-03\n",
      "0.095238             123.921676         123.918869     2.806440e-03\n",
      "0.190476             129.752495         129.749913     2.582806e-03\n",
      "0.285714             135.717357         135.715019     2.337866e-03\n",
      "0.380952             141.816260         141.814189     2.071260e-03\n",
      "0.476190             148.049206         148.047423     1.782638e-03\n",
      "0.571429             154.416193         154.414721     1.471656e-03\n",
      "0.666667             160.917222         160.916084     1.137976e-03\n",
      "0.761905             167.552292         167.551511     7.812690e-04\n",
      "0.857143             174.321405         174.321004     4.012132e-04\n",
      "0.952381             181.224560         181.224560     2.842171e-14\n",
      "\n",
      "Максимальная разность:\t0.00300913484672094\n",
      "\n"
     ]
    },
    {
     "data": {
      "image/png": "[encoded data removed]",
      "text/plain": [
       "<Figure size 576x432 with 1 Axes>"
      ]
     },
     "metadata": {
      "needs_background": "light"
     },
     "output_type": "display_data"
    }
   ],
   "source": [
    "answer(L = 21, k = 0.2)"
   ]
  },
  {
   "cell_type": "code",
   "execution_count": null,
   "metadata": {},
   "outputs": [],
   "source": []
  }
 ],
 "metadata": {
  "kernelspec": {
   "display_name": "Python 3",
   "language": "python",
   "name": "python3"
  },
  "language_info": {
   "codemirror_mode": {
    "name": "ipython",
    "version": 3
   },
   "file_extension": ".py",
   "mimetype": "text/x-python",
   "name": "python",
   "nbconvert_exporter": "python",
   "pygments_lexer": "ipython3",
   "version": "3.6.9"
  }
 },
 "nbformat": 4,
 "nbformat_minor": 4
}
