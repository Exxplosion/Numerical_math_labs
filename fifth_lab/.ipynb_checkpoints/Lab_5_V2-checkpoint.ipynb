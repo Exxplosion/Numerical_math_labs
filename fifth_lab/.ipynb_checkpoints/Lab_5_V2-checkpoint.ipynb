{
 "cells": [
  {
   "cell_type": "code",
   "execution_count": 22,
   "metadata": {},
   "outputs": [],
   "source": [
    "import matplotlib.pyplot as plt\n",
    "import numpy as np\n",
    "import pandas as pd\n",
    "%matplotlib notebook"
   ]
  },
  {
   "cell_type": "code",
   "execution_count": 23,
   "metadata": {},
   "outputs": [],
   "source": [
    "def U_analytical(x, t=1):\n",
    "    return x - t + np.exp(t)"
   ]
  },
  {
   "cell_type": "code",
   "execution_count": 16,
   "metadata": {},
   "outputs": [],
   "source": [
    "def calculate_U(L, K):\n",
    "    N = int(L/K)\n",
    "    print('N = ', N)\n",
    "    xs, h = np.linspace(0, 1, L, retstep=True)\n",
    "    ts, dt = np.linspace(0, 1, N, retstep=True)\n",
    "    print('h = ', h)\n",
    "    print('1/L = ', 1/L)\n",
    "    U = [xs + 1]\n",
    "\n",
    "    for n, t in enumerate(ts[1:]):\n",
    "        U_0 = np.exp(t) - t\n",
    "        U_1 = np.exp(t) - t + h\n",
    "        #U_L2 = U_L - (np.cos(1 + 4*t) - 1/4) * 2*h + (-np.sin(1 + 4*t) - 1/4) * 2*h**2 + np.cos(1 + 4*t) * 4*h**3 /3\n",
    "\n",
    "        #U_l3 = U[n][3:]\n",
    "        U_l2 = U[n][:-2]\n",
    "        U_l1 = U[n][1:-1]\n",
    "        U_l = U[n][2:]\n",
    "\n",
    "        S1 = -U_l2 + 4*U_l1 - 3*U_l\n",
    "        S2 = U_l2 - 2*U_l1 + U_l\n",
    "        #S3 = U_l3 - 3*U_l2 + 3*U_l1 - U_l\n",
    "\n",
    "        U_next = U_l + dt/(2 * h) * S1 + (dt**2)/(2*h**2) * S2 + dt*np.exp(t)*(1+dt/2)\n",
    "        U.append(np.hstack([[U_0, U_1],U_next]))\n",
    "\n",
    "    return xs, U[-1]"
   ]
  },
  {
   "cell_type": "code",
   "execution_count": 17,
   "metadata": {},
   "outputs": [],
   "source": [
    "def common_answer(L, K):\n",
    "    grid, u = calculate_U(L, K)\n",
    "    u_a = U_analytical(grid)\n",
    "    max_diff = np.abs(u - u_a).max()\n",
    "    \n",
    "    step_for_output = (L) // 10\n",
    "    max_diff = np.abs(u[::step_for_output] - u_a[::step_for_output]).max()\n",
    "    df = pd.DataFrame(\n",
    "        {\n",
    "            'Grid': grid[::step_for_output],\n",
    "            'Model analytical': u_a[::step_for_output],\n",
    "            'Model numerical': u[::step_for_output],\n",
    "        }\n",
    "    )\n",
    "    print('Значения в 11 равноудаленных точках:\\n')\n",
    "    print(df.to_string(index=False))\n",
    "    print(f'\\nMax diff:\\t{max_diff}\\n')\n",
    "\n",
    "    fig, ax = plt.subplots(figsize=(8, 6))\n",
    "    \n",
    "    ax.plot(grid, u, '-r', label='numerical solution')\n",
    "    ax.plot(grid, u_a, '--k', label='analytical solution')\n",
    "    ax.set_xlabel('$x$', fontsize=14)\n",
    "    ax.set_ylabel('$U(x, t=1)$', fontsize=14)\n",
    "    ax.legend()"
   ]
  },
  {
   "cell_type": "code",
   "execution_count": 33,
   "metadata": {},
   "outputs": [
    {
     "name": "stdout",
     "output_type": "stream",
     "text": [
      "N =  1605\n",
      "h =  0.003125\n",
      "1/L =  0.003115264797507788\n",
      "Значения в 11 равноудаленных точках:\n",
      "\n",
      " Grid  Model analytical  Model numerical\n",
      "  0.0          1.718282         1.718282\n",
      "  0.1          1.818282         1.818450\n",
      "  0.2          1.918282         1.918597\n",
      "  0.3          2.018282         2.018729\n",
      "  0.4          2.118282         2.118849\n",
      "  0.5          2.218282         2.218958\n",
      "  0.6          2.318282         2.319056\n",
      "  0.7          2.418282         2.419145\n",
      "  0.8          2.518282         2.519226\n",
      "  0.9          2.618282         2.619298\n",
      "  1.0          2.718282         2.719358\n",
      "\n",
      "Max diff:\t0.0010765126319447482\n",
      "\n"
     ]
    },
    {
     "data": {
      "image/png": "[encoded data removed]",
      "text/plain": [
       "<Figure size 576x432 with 1 Axes>"
      ]
     },
     "metadata": {
      "needs_background": "light"
     },
     "output_type": "display_data"
    }
   ],
   "source": [
    "common_answer(L=321, K=0.2)"
   ]
  },
  {
   "cell_type": "code",
   "execution_count": 12,
   "metadata": {},
   "outputs": [],
   "source": [
    "def U_numerical(L, N):\n",
    "    grid_x = np.linspace(0, 1, L + 1)\n",
    "    grid_t = np.linspace(0, 1, N + 1)\n",
    "    h = 1 / L\n",
    "    tau = 1 / N\n",
    "\n",
    "    #построим сеточную функцию из нашей дополненной разностной схемы\n",
    "#     U = np.zeros(shape = (N + 1, L + 1))\n",
    "    \n",
    "    #при t = 0\n",
    "#     for i in range(L + 1):\n",
    "    U = [(grid_x + 1)]\n",
    "\n",
    "    #при остальных t\n",
    "    for j in range(1, N + 1):\n",
    "        U_0 = np.exp(tau*j) - tau*j\n",
    "        U_1 = np.exp(tau*j) - tau*j + h\n",
    "\n",
    "        U_l2 = U[-1][:-2]\n",
    "        U_l1 = U[-1][1:-1]\n",
    "        U_l = U[-1][2:]\n",
    "\n",
    "\n",
    "        x_l = grid_x[:-2]\n",
    "        B1 = U_l2 - 4*U_l1 + 3*U_l\n",
    "        B2 = U_l2 - 2*U_l1 + U_l\n",
    "          \n",
    "        U_next = U_l-tau/(2 * h)*B1+(tau**2)/(2*h**2) *B2 + tau*np.exp(tau*j)*(1+tau/2)\n",
    "        U.append(np.hstack([[U_0, U_1],U_next]))\n",
    "\n",
    "    print(len(U))\n",
    "    return grid_x, U[-1]"
   ]
  },
  {
   "cell_type": "code",
   "execution_count": 13,
   "metadata": {},
   "outputs": [],
   "source": [
    "def answer(L = 10, k = 0.2):\n",
    "    N = int(L/k)\n",
    "    grid, U = U_numerical(L, N)\n",
    "    U_a = U_analytical(grid, t = 1)\n",
    "    diff = np.abs(U - U_a)\n",
    "    max_diff = np.abs(U - U_a).max()\n",
    "    \n",
    "    step = L // 10\n",
    "    df = pd.DataFrame(\n",
    "        {\n",
    "            'Сетка': grid[::step],\n",
    "            'Аналитическое решение': U_a[::step],\n",
    "            'Численное решение': U[::step],\n",
    "            'Модуль разности': diff[::step],\n",
    "        }\n",
    "    )\n",
    "    print('Значения в 11 равноудаленных точках:\\n')\n",
    "    print(df.to_string(index=False))\n",
    "    print(f'\\nМаксимальная разность:\\t{max_diff}\\n')\n",
    "\n",
    "    fig, ax = plt.subplots(figsize=(8, 6))\n",
    "    \n",
    "    ax.plot(grid, U, '-r', label='numerical solution')\n",
    "    ax.plot(grid, U_a, '--b', label='analytical solution')\n",
    "    ax.set_xlabel('$x$', fontsize=14)\n",
    "    ax.set_ylabel('$U(x, t=1)$', fontsize=14)\n",
    "    ax.legend()"
   ]
  },
  {
   "cell_type": "code",
   "execution_count": 15,
   "metadata": {},
   "outputs": [
    {
     "name": "stdout",
     "output_type": "stream",
     "text": [
      "106\n",
      "Значения в 11 равноудаленных точках:\n",
      "\n",
      "    Сетка  Аналитическое решение  Численное решение  Модуль разности\n",
      " 0.000000               1.718282           1.718282         0.000000\n",
      " 0.095238               1.813520           1.814378         0.000858\n",
      " 0.190476               1.908758           1.911773         0.003015\n",
      " 0.285714               2.003996           2.009087         0.005091\n",
      " 0.380952               2.099234           2.106222         0.006988\n",
      " 0.476190               2.194472           2.203185         0.008713\n",
      " 0.571429               2.289710           2.299992         0.010281\n",
      " 0.666667               2.384948           2.396656         0.011707\n",
      " 0.761905               2.480187           2.493189         0.013002\n",
      " 0.857143               2.575425           2.589595         0.014171\n",
      " 0.952381               2.670663           2.685857         0.015194\n",
      "\n",
      "Максимальная разность:\t0.01563213325152546\n",
      "\n"
     ]
    },
    {
     "data": {
      "image/png": "[encoded data removed]",
      "text/plain": [
       "<Figure size 576x432 with 1 Axes>"
      ]
     },
     "metadata": {
      "needs_background": "light"
     },
     "output_type": "display_data"
    }
   ],
   "source": [
    "answer(L = 21, k = 0.2)"
   ]
  },
  {
   "cell_type": "code",
   "execution_count": null,
   "metadata": {},
   "outputs": [],
   "source": []
  }
 ],
 "metadata": {
  "kernelspec": {
   "display_name": "Python 3",
   "language": "python",
   "name": "python3"
  },
  "language_info": {
   "codemirror_mode": {
    "name": "ipython",
    "version": 3
   },
   "file_extension": ".py",
   "mimetype": "text/x-python",
   "name": "python",
   "nbconvert_exporter": "python",
   "pygments_lexer": "ipython3",
   "version": "3.6.9"
  }
 },
 "nbformat": 4,
 "nbformat_minor": 4
}
