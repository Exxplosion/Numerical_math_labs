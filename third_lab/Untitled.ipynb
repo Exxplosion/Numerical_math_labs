{
 "cells": [
  {
   "cell_type": "code",
   "execution_count": 147,
   "metadata": {},
   "outputs": [],
   "source": [
    "from math import sqrt\n",
    "import numpy as np\n",
    "import sympy as sm\n",
    "\n",
    "import matplotlib.pyplot as plt\n",
    "import pandas as pd\n",
    "#from scipy.optimize import curve_fit\n",
    "from lab_processing import print_errors, create_plot"
   ]
  },
  {
   "cell_type": "code",
   "execution_count": 148,
   "metadata": {},
   "outputs": [],
   "source": [
    "x, y = sm.symbols('x y')"
   ]
  },
  {
   "cell_type": "code",
   "execution_count": 176,
   "metadata": {},
   "outputs": [],
   "source": [
    "#y' = f\n",
    "f = (- 2*x**2 + y**2 - 3*x*y)/(x**2 - x*y)\n",
    "#f = 3*x * y + x*y**2\n",
    "#f = x**3 + (2*x**2 + 1)*y + x*y**2\n",
    "#x ∈ (x_0; x_N)\n",
    "x_0 = -1\n",
    "x_N = -0.01\n",
    "#accuracy\n",
    "epsln = 10**(-4)\n",
    "#y(x_0) = ...\n",
    "y_0 = 1\n",
    "#initial number of grid nodes\n",
    "N_nodes = 22\n",
    "#initial grid step\n",
    "h = (x_N - x_0)/N_nodes\n",
    "#h = 0.02727272727272727/2"
   ]
  },
  {
   "cell_type": "code",
   "execution_count": 177,
   "metadata": {},
   "outputs": [
    {
     "data": {
      "text/latex": [
       "$\\displaystyle \\frac{- 2 x^{2} - 3 x y + y^{2}}{x^{2} - x y}$"
      ],
      "text/plain": [
       "(-2*x**2 - 3*x*y + y**2)/(x**2 - x*y)"
      ]
     },
     "execution_count": 177,
     "metadata": {},
     "output_type": "execute_result"
    }
   ],
   "source": [
    "f"
   ]
  },
  {
   "cell_type": "code",
   "execution_count": 178,
   "metadata": {},
   "outputs": [],
   "source": [
    "#x_grid, h = np.linspace(x_0, x_N, N_nodes, retstep = True)\n",
    "x_grid = np.arange(x_0, x_N, h)\n",
    "y_grid = np.empty(x_grid.size)\n",
    "y_grid[0] = y_0"
   ]
  },
  {
   "cell_type": "code",
   "execution_count": 179,
   "metadata": {},
   "outputs": [],
   "source": [
    "#for i in range(1, x_grid.size):\n",
    " #    y_grid[i] = y_grid[i-1] + h * \\\n",
    "  #              func(x_grid[i-1] + h/2, y_grid[i-1] + h/2*func(x_grid[i-1], y_grid[i-1]))"
   ]
  },
  {
   "cell_type": "code",
   "execution_count": 180,
   "metadata": {},
   "outputs": [],
   "source": [
    "for i in range(1, x_grid.size):\n",
    "    y_grid[i] = y_grid[i-1] + \\\n",
    "               h*f.subs([(x, x_grid[i-1] + h/2), \\\n",
    "                       (y, y_grid[i-1] + h/2*f.subs([(x, x_grid[i-1]), \\\n",
    "                                                     (y, y_grid[i-1])]) \\\n",
    "                       )])"
   ]
  },
  {
   "cell_type": "code",
   "execution_count": 181,
   "metadata": {},
   "outputs": [],
   "source": [
    "#x_grid_2h, h_2 = np.linspace(x_0, x_N, 2*N_nodes + 1, retstep = True)\n",
    "k = int (704/N_nodes)\n",
    "N_nodes = 88*8\n",
    "#initial grid step\n",
    "h_2 = (x_N - x_0)/N_nodes\n",
    "#h = 0.02727272727272727/2\n",
    "x_grid_2h = np.arange(x_0, x_N + 0.001, h_2)\n",
    "y_grid_2h = np.empty(x_grid_2h.size)\n",
    "y_grid_2h[0] = y_0\n",
    "for i in range(1, x_grid_2h.size):\n",
    "    y_grid_2h[i] = y_grid_2h[i-1] + \\\n",
    "                h_2*f.subs([(x, x_grid_2h[i-1] + h_2/2), \\\n",
    "                        (y, y_grid_2h[i-1] + h_2/2*f.subs([(x, x_grid_2h[i-1]), \\\n",
    "                                                      (y, y_grid_2h[i-1])]) \\\n",
    "                        )])"
   ]
  },
  {
   "cell_type": "code",
   "execution_count": 182,
   "metadata": {},
   "outputs": [],
   "source": [
    "k = int (k)"
   ]
  },
  {
   "cell_type": "code",
   "execution_count": 183,
   "metadata": {
    "scrolled": false
   },
   "outputs": [
    {
     "data": {
      "text/html": [
       "<div>\n",
       "<style scoped>\n",
       "    .dataframe tbody tr th:only-of-type {\n",
       "        vertical-align: middle;\n",
       "    }\n",
       "\n",
       "    .dataframe tbody tr th {\n",
       "        vertical-align: top;\n",
       "    }\n",
       "\n",
       "    .dataframe thead th {\n",
       "        text-align: right;\n",
       "    }\n",
       "</style>\n",
       "<table border=\"1\" class=\"dataframe\">\n",
       "  <thead>\n",
       "    <tr style=\"text-align: right;\">\n",
       "      <th></th>\n",
       "      <th>0</th>\n",
       "      <th>1</th>\n",
       "      <th>2</th>\n",
       "      <th>3</th>\n",
       "      <th>4</th>\n",
       "      <th>5</th>\n",
       "      <th>6</th>\n",
       "      <th>7</th>\n",
       "      <th>8</th>\n",
       "      <th>9</th>\n",
       "      <th>...</th>\n",
       "      <th>695</th>\n",
       "      <th>696</th>\n",
       "      <th>697</th>\n",
       "      <th>698</th>\n",
       "      <th>699</th>\n",
       "      <th>700</th>\n",
       "      <th>701</th>\n",
       "      <th>702</th>\n",
       "      <th>703</th>\n",
       "      <th>704</th>\n",
       "    </tr>\n",
       "  </thead>\n",
       "  <tbody>\n",
       "    <tr>\n",
       "      <th>x_2</th>\n",
       "      <td>-1.0</td>\n",
       "      <td>-0.998594</td>\n",
       "      <td>-0.997187</td>\n",
       "      <td>-0.995781</td>\n",
       "      <td>-0.994375</td>\n",
       "      <td>-0.992969</td>\n",
       "      <td>-0.991562</td>\n",
       "      <td>-0.990156</td>\n",
       "      <td>-0.988750</td>\n",
       "      <td>-0.987344</td>\n",
       "      <td>...</td>\n",
       "      <td>-0.022656</td>\n",
       "      <td>-0.02125</td>\n",
       "      <td>-0.019844</td>\n",
       "      <td>-0.018437</td>\n",
       "      <td>-0.017031</td>\n",
       "      <td>-0.015625</td>\n",
       "      <td>-0.014219</td>\n",
       "      <td>-0.012812</td>\n",
       "      <td>-0.011406</td>\n",
       "      <td>-0.010000</td>\n",
       "    </tr>\n",
       "    <tr>\n",
       "      <th>y_2</th>\n",
       "      <td>1.0</td>\n",
       "      <td>1.001410</td>\n",
       "      <td>1.002828</td>\n",
       "      <td>1.004254</td>\n",
       "      <td>1.005689</td>\n",
       "      <td>1.007131</td>\n",
       "      <td>1.008581</td>\n",
       "      <td>1.010039</td>\n",
       "      <td>1.011506</td>\n",
       "      <td>1.012981</td>\n",
       "      <td>...</td>\n",
       "      <td>62.340140</td>\n",
       "      <td>66.46029</td>\n",
       "      <td>71.162316</td>\n",
       "      <td>76.578735</td>\n",
       "      <td>82.885552</td>\n",
       "      <td>90.321660</td>\n",
       "      <td>99.219633</td>\n",
       "      <td>110.056520</td>\n",
       "      <td>123.541635</td>\n",
       "      <td>140.776967</td>\n",
       "    </tr>\n",
       "  </tbody>\n",
       "</table>\n",
       "<p>2 rows × 705 columns</p>\n",
       "</div>"
      ],
      "text/plain": [
       "     0         1         2         3         4         5         6    \\\n",
       "x_2 -1.0 -0.998594 -0.997187 -0.995781 -0.994375 -0.992969 -0.991562   \n",
       "y_2  1.0  1.001410  1.002828  1.004254  1.005689  1.007131  1.008581   \n",
       "\n",
       "          7         8         9    ...        695       696        697  \\\n",
       "x_2 -0.990156 -0.988750 -0.987344  ...  -0.022656  -0.02125  -0.019844   \n",
       "y_2  1.010039  1.011506  1.012981  ...  62.340140  66.46029  71.162316   \n",
       "\n",
       "           698        699        700        701         702         703  \\\n",
       "x_2  -0.018437  -0.017031  -0.015625  -0.014219   -0.012812   -0.011406   \n",
       "y_2  76.578735  82.885552  90.321660  99.219633  110.056520  123.541635   \n",
       "\n",
       "            704  \n",
       "x_2   -0.010000  \n",
       "y_2  140.776967  \n",
       "\n",
       "[2 rows x 705 columns]"
      ]
     },
     "execution_count": 183,
     "metadata": {},
     "output_type": "execute_result"
    }
   ],
   "source": [
    "dataset = pd.DataFrame({'x':x_grid,'y':y_grid})\n",
    "dataset_2 = pd.DataFrame({'x_2':x_grid_2h,'y_2':y_grid_2h})\n",
    "bb = dataset_2.T\n",
    "gg = dataset.T\n",
    "bb"
   ]
  },
  {
   "cell_type": "code",
   "execution_count": 184,
   "metadata": {
    "scrolled": true
   },
   "outputs": [
    {
     "data": {
      "text/html": [
       "<div>\n",
       "<style scoped>\n",
       "    .dataframe tbody tr th:only-of-type {\n",
       "        vertical-align: middle;\n",
       "    }\n",
       "\n",
       "    .dataframe tbody tr th {\n",
       "        vertical-align: top;\n",
       "    }\n",
       "\n",
       "    .dataframe thead th {\n",
       "        text-align: right;\n",
       "    }\n",
       "</style>\n",
       "<table border=\"1\" class=\"dataframe\">\n",
       "  <thead>\n",
       "    <tr style=\"text-align: right;\">\n",
       "      <th></th>\n",
       "      <th>0</th>\n",
       "      <th>1</th>\n",
       "      <th>2</th>\n",
       "      <th>3</th>\n",
       "      <th>4</th>\n",
       "      <th>5</th>\n",
       "      <th>6</th>\n",
       "      <th>7</th>\n",
       "      <th>8</th>\n",
       "      <th>9</th>\n",
       "      <th>...</th>\n",
       "      <th>12</th>\n",
       "      <th>13</th>\n",
       "      <th>14</th>\n",
       "      <th>15</th>\n",
       "      <th>16</th>\n",
       "      <th>17</th>\n",
       "      <th>18</th>\n",
       "      <th>19</th>\n",
       "      <th>20</th>\n",
       "      <th>21</th>\n",
       "    </tr>\n",
       "  </thead>\n",
       "  <tbody>\n",
       "    <tr>\n",
       "      <th>x</th>\n",
       "      <td>-1.0</td>\n",
       "      <td>-0.955000</td>\n",
       "      <td>-0.910000</td>\n",
       "      <td>-0.865000</td>\n",
       "      <td>-0.820000</td>\n",
       "      <td>-0.77500</td>\n",
       "      <td>-0.73000</td>\n",
       "      <td>-0.685000</td>\n",
       "      <td>-0.640000</td>\n",
       "      <td>-0.595000</td>\n",
       "      <td>...</td>\n",
       "      <td>-0.460000</td>\n",
       "      <td>-0.41500</td>\n",
       "      <td>-0.370000</td>\n",
       "      <td>-0.32500</td>\n",
       "      <td>-0.280000</td>\n",
       "      <td>-0.235000</td>\n",
       "      <td>-0.190000</td>\n",
       "      <td>-0.145000</td>\n",
       "      <td>-0.100000</td>\n",
       "      <td>-0.05500</td>\n",
       "    </tr>\n",
       "    <tr>\n",
       "      <th>y</th>\n",
       "      <td>1.0</td>\n",
       "      <td>1.049097</td>\n",
       "      <td>1.107445</td>\n",
       "      <td>1.176387</td>\n",
       "      <td>1.257475</td>\n",
       "      <td>1.35252</td>\n",
       "      <td>1.46367</td>\n",
       "      <td>1.593519</td>\n",
       "      <td>1.745271</td>\n",
       "      <td>1.922987</td>\n",
       "      <td>...</td>\n",
       "      <td>2.674842</td>\n",
       "      <td>3.03265</td>\n",
       "      <td>3.473614</td>\n",
       "      <td>4.03012</td>\n",
       "      <td>4.755132</td>\n",
       "      <td>5.741364</td>\n",
       "      <td>7.166526</td>\n",
       "      <td>9.417661</td>\n",
       "      <td>13.518069</td>\n",
       "      <td>23.24825</td>\n",
       "    </tr>\n",
       "  </tbody>\n",
       "</table>\n",
       "<p>2 rows × 22 columns</p>\n",
       "</div>"
      ],
      "text/plain": [
       "    0         1         2         3         4        5        6         7   \\\n",
       "x -1.0 -0.955000 -0.910000 -0.865000 -0.820000 -0.77500 -0.73000 -0.685000   \n",
       "y  1.0  1.049097  1.107445  1.176387  1.257475  1.35252  1.46367  1.593519   \n",
       "\n",
       "         8         9   ...        12       13        14       15        16  \\\n",
       "x -0.640000 -0.595000  ... -0.460000 -0.41500 -0.370000 -0.32500 -0.280000   \n",
       "y  1.745271  1.922987  ...  2.674842  3.03265  3.473614  4.03012  4.755132   \n",
       "\n",
       "         17        18        19         20        21  \n",
       "x -0.235000 -0.190000 -0.145000  -0.100000  -0.05500  \n",
       "y  5.741364  7.166526  9.417661  13.518069  23.24825  \n",
       "\n",
       "[2 rows x 22 columns]"
      ]
     },
     "execution_count": 184,
     "metadata": {},
     "output_type": "execute_result"
    }
   ],
   "source": [
    "gg"
   ]
  },
  {
   "cell_type": "code",
   "execution_count": 195,
   "metadata": {},
   "outputs": [
    {
     "name": "stdout",
     "output_type": "stream",
     "text": [
      "-1.0\n",
      "-0.99859375\n",
      "-0.9971874999999999\n",
      "-0.9957812499999998\n",
      "-0.9943749999999998\n",
      "-0.9929687499999997\n",
      "-0.9915624999999997\n",
      "-0.9901562499999996\n",
      "-0.9887499999999996\n",
      "-0.9873437499999995\n",
      "-0.9859374999999995\n"
     ]
    }
   ],
   "source": [
    "#0.         0.05454545 0.10909091 0.16363636 0.21818182 0.27272727\n",
    " #0.32727273 0.38181818 0.43636364 0.49090909 0.54545455 0.6\n",
    "arr = np.arange(x_0, x_N + 0.001, ((x_N - x_0)/11))\n",
    "diff_y_h_y_2h = np.empty(x_grid.size)\n",
    "for i in range(0, arr.size - 1):\n",
    "    #if x_grid_2h[i] in arr:\n",
    "        diff_y_h_y_2h[i] = abs(y_grid_2h[k*i] - y_grid[2*i])\n",
    "        print(x_grid_2h[i])"
   ]
  },
  {
   "cell_type": "code",
   "execution_count": 201,
   "metadata": {},
   "outputs": [
    {
     "name": "stdout",
     "output_type": "stream",
     "text": [
      "[-1.         -0.99859375 -0.9971875  -0.99578125 -0.994375   -0.99296875\n",
      " -0.9915625  -0.99015625 -0.98875    -0.98734375 -0.9859375  -0.98453125\n",
      " -0.983125   -0.98171875 -0.9803125  -0.97890625 -0.9775     -0.97609375\n",
      " -0.9746875  -0.97328125 -0.971875   -0.97046875 -0.9690625  -0.96765625\n",
      " -0.96625    -0.96484375 -0.9634375  -0.96203125 -0.960625   -0.95921875\n",
      " -0.9578125  -0.95640625 -0.955      -0.95359375 -0.9521875  -0.95078125\n",
      " -0.949375   -0.94796875 -0.9465625  -0.94515625 -0.94375    -0.94234375\n",
      " -0.9409375  -0.93953125 -0.938125   -0.93671875 -0.9353125  -0.93390625\n",
      " -0.9325     -0.93109375 -0.9296875  -0.92828125 -0.926875   -0.92546875\n",
      " -0.9240625  -0.92265625 -0.92125    -0.91984375 -0.9184375  -0.91703125\n",
      " -0.915625   -0.91421875 -0.9128125  -0.91140625 -0.91       -0.90859375\n",
      " -0.9071875  -0.90578125 -0.904375   -0.90296875 -0.9015625  -0.90015625\n",
      " -0.89875    -0.89734375 -0.8959375  -0.89453125 -0.893125   -0.89171875\n",
      " -0.8903125  -0.88890625 -0.8875     -0.88609375 -0.8846875  -0.88328125\n",
      " -0.881875   -0.88046875 -0.8790625  -0.87765625 -0.87625    -0.87484375\n",
      " -0.8734375  -0.87203125 -0.870625   -0.86921875 -0.8678125  -0.86640625\n",
      " -0.865      -0.86359375 -0.8621875  -0.86078125 -0.859375   -0.85796875\n",
      " -0.8565625  -0.85515625 -0.85375    -0.85234375 -0.8509375  -0.84953125\n",
      " -0.848125   -0.84671875 -0.8453125  -0.84390625 -0.8425     -0.84109375\n",
      " -0.8396875  -0.83828125 -0.836875   -0.83546875 -0.8340625  -0.83265625\n",
      " -0.83125    -0.82984375 -0.8284375  -0.82703125 -0.825625   -0.82421875\n",
      " -0.8228125  -0.82140625 -0.82       -0.81859375 -0.8171875  -0.81578125\n",
      " -0.814375   -0.81296875 -0.8115625  -0.81015625 -0.80875    -0.80734375\n",
      " -0.8059375  -0.80453125 -0.803125   -0.80171875 -0.8003125  -0.79890625\n",
      " -0.7975     -0.79609375 -0.7946875  -0.79328125 -0.791875   -0.79046875\n",
      " -0.7890625  -0.78765625 -0.78625    -0.78484375 -0.7834375  -0.78203125\n",
      " -0.780625   -0.77921875 -0.7778125  -0.77640625 -0.775      -0.77359375\n",
      " -0.7721875  -0.77078125 -0.769375   -0.76796875 -0.7665625  -0.76515625\n",
      " -0.76375    -0.76234375 -0.7609375  -0.75953125 -0.758125   -0.75671875\n",
      " -0.7553125  -0.75390625 -0.7525     -0.75109375 -0.7496875  -0.74828125\n",
      " -0.746875   -0.74546875 -0.7440625  -0.74265625 -0.74125    -0.73984375\n",
      " -0.7384375  -0.73703125 -0.735625   -0.73421875 -0.7328125  -0.73140625\n",
      " -0.73       -0.72859375 -0.7271875  -0.72578125 -0.724375   -0.72296875\n",
      " -0.7215625  -0.72015625 -0.71875    -0.71734375 -0.7159375  -0.71453125\n",
      " -0.713125   -0.71171875 -0.7103125  -0.70890625 -0.7075     -0.70609375\n",
      " -0.7046875  -0.70328125 -0.701875   -0.70046875 -0.6990625  -0.69765625\n",
      " -0.69625    -0.69484375 -0.6934375  -0.69203125 -0.690625   -0.68921875\n",
      " -0.6878125  -0.68640625 -0.685      -0.68359375 -0.6821875  -0.68078125\n",
      " -0.679375   -0.67796875 -0.6765625  -0.67515625 -0.67375    -0.67234375\n",
      " -0.6709375  -0.66953125 -0.668125   -0.66671875 -0.6653125  -0.66390625\n",
      " -0.6625     -0.66109375 -0.6596875  -0.65828125 -0.656875   -0.65546875\n",
      " -0.6540625  -0.65265625 -0.65125    -0.64984375 -0.6484375  -0.64703125\n",
      " -0.645625   -0.64421875 -0.6428125  -0.64140625 -0.64       -0.63859375\n",
      " -0.6371875  -0.63578125 -0.634375   -0.63296875 -0.6315625  -0.63015625\n",
      " -0.62875    -0.62734375 -0.6259375  -0.62453125 -0.623125   -0.62171875\n",
      " -0.6203125  -0.61890625 -0.6175     -0.61609375 -0.6146875  -0.61328125\n",
      " -0.611875   -0.61046875 -0.6090625  -0.60765625 -0.60625    -0.60484375\n",
      " -0.6034375  -0.60203125 -0.600625   -0.59921875 -0.5978125  -0.59640625\n",
      " -0.595      -0.59359375 -0.5921875  -0.59078125 -0.589375   -0.58796875\n",
      " -0.5865625  -0.58515625 -0.58375    -0.58234375 -0.5809375  -0.57953125\n",
      " -0.578125   -0.57671875 -0.5753125  -0.57390625 -0.5725     -0.57109375\n",
      " -0.5696875  -0.56828125 -0.566875   -0.56546875 -0.5640625  -0.56265625\n",
      " -0.56125    -0.55984375 -0.5584375  -0.55703125 -0.555625   -0.55421875\n",
      " -0.5528125  -0.55140625 -0.55       -0.54859375 -0.5471875  -0.54578125\n",
      " -0.544375   -0.54296875 -0.5415625  -0.54015625 -0.53875    -0.53734375\n",
      " -0.5359375  -0.53453125 -0.533125   -0.53171875 -0.5303125  -0.52890625\n",
      " -0.5275     -0.52609375 -0.5246875  -0.52328125 -0.521875   -0.52046875\n",
      " -0.5190625  -0.51765625 -0.51625    -0.51484375 -0.5134375  -0.51203125\n",
      " -0.510625   -0.50921875 -0.5078125  -0.50640625 -0.505      -0.50359375\n",
      " -0.5021875  -0.50078125 -0.499375   -0.49796875 -0.4965625  -0.49515625\n",
      " -0.49375    -0.49234375 -0.4909375  -0.48953125 -0.488125   -0.48671875\n",
      " -0.4853125  -0.48390625 -0.4825     -0.48109375 -0.4796875  -0.47828125\n",
      " -0.476875   -0.47546875 -0.4740625  -0.47265625 -0.47125    -0.46984375\n",
      " -0.4684375  -0.46703125 -0.465625   -0.46421875 -0.4628125  -0.46140625\n",
      " -0.46       -0.45859375 -0.4571875  -0.45578125 -0.454375   -0.45296875\n",
      " -0.4515625  -0.45015625 -0.44875    -0.44734375 -0.4459375  -0.44453125\n",
      " -0.443125   -0.44171875 -0.4403125  -0.43890625 -0.4375     -0.43609375\n",
      " -0.4346875  -0.43328125 -0.431875   -0.43046875 -0.4290625  -0.42765625\n",
      " -0.42625    -0.42484375 -0.4234375  -0.42203125 -0.420625   -0.41921875\n",
      " -0.4178125  -0.41640625 -0.415      -0.41359375 -0.4121875  -0.41078125\n",
      " -0.409375   -0.40796875 -0.4065625  -0.40515625 -0.40375    -0.40234375\n",
      " -0.4009375  -0.39953125 -0.398125   -0.39671875 -0.3953125  -0.39390625\n",
      " -0.3925     -0.39109375 -0.3896875  -0.38828125 -0.386875   -0.38546875\n",
      " -0.3840625  -0.38265625 -0.38125    -0.37984375 -0.3784375  -0.37703125\n",
      " -0.375625   -0.37421875 -0.3728125  -0.37140625 -0.37       -0.36859375\n",
      " -0.3671875  -0.36578125 -0.364375   -0.36296875 -0.3615625  -0.36015625\n",
      " -0.35875    -0.35734375 -0.3559375  -0.35453125 -0.353125   -0.35171875\n",
      " -0.3503125  -0.34890625 -0.3475     -0.34609375 -0.3446875  -0.34328125\n",
      " -0.341875   -0.34046875 -0.3390625  -0.33765625 -0.33625    -0.33484375\n",
      " -0.3334375  -0.33203125 -0.330625   -0.32921875 -0.3278125  -0.32640625\n",
      " -0.325      -0.32359375 -0.3221875  -0.32078125 -0.319375   -0.31796875\n",
      " -0.3165625  -0.31515625 -0.31375    -0.31234375 -0.3109375  -0.30953125\n",
      " -0.308125   -0.30671875 -0.3053125  -0.30390625 -0.3025     -0.30109375\n",
      " -0.2996875  -0.29828125 -0.296875   -0.29546875 -0.2940625  -0.29265625\n",
      " -0.29125    -0.28984375 -0.2884375  -0.28703125 -0.285625   -0.28421875\n",
      " -0.2828125  -0.28140625 -0.28       -0.27859375 -0.2771875  -0.27578125\n",
      " -0.274375   -0.27296875 -0.2715625  -0.27015625 -0.26875    -0.26734375\n",
      " -0.2659375  -0.26453125 -0.263125   -0.26171875 -0.2603125  -0.25890625\n",
      " -0.2575     -0.25609375 -0.2546875  -0.25328125 -0.251875   -0.25046875\n",
      " -0.2490625  -0.24765625 -0.24625    -0.24484375 -0.2434375  -0.24203125\n",
      " -0.240625   -0.23921875 -0.2378125  -0.23640625 -0.235      -0.23359375\n",
      " -0.2321875  -0.23078125 -0.229375   -0.22796875 -0.2265625  -0.22515625\n",
      " -0.22375    -0.22234375 -0.2209375  -0.21953125 -0.218125   -0.21671875\n",
      " -0.2153125  -0.21390625 -0.2125     -0.21109375 -0.2096875  -0.20828125\n",
      " -0.206875   -0.20546875 -0.2040625  -0.20265625 -0.20125    -0.19984375\n",
      " -0.1984375  -0.19703125 -0.195625   -0.19421875 -0.1928125  -0.19140625\n",
      " -0.19       -0.18859375 -0.1871875  -0.18578125 -0.184375   -0.18296875\n",
      " -0.1815625  -0.18015625 -0.17875    -0.17734375 -0.1759375  -0.17453125\n",
      " -0.173125   -0.17171875 -0.1703125  -0.16890625 -0.1675     -0.16609375\n",
      " -0.1646875  -0.16328125 -0.161875   -0.16046875 -0.1590625  -0.15765625\n",
      " -0.15625    -0.15484375 -0.1534375  -0.15203125 -0.150625   -0.14921875\n",
      " -0.1478125  -0.14640625 -0.145      -0.14359375 -0.1421875  -0.14078125\n",
      " -0.139375   -0.13796875 -0.1365625  -0.13515625 -0.13375    -0.13234375\n",
      " -0.1309375  -0.12953125 -0.128125   -0.12671875 -0.1253125  -0.12390625\n",
      " -0.1225     -0.12109375 -0.1196875  -0.11828125 -0.116875   -0.11546875\n",
      " -0.1140625  -0.11265625 -0.11125    -0.10984375 -0.1084375  -0.10703125\n",
      " -0.105625   -0.10421875 -0.1028125  -0.10140625 -0.1        -0.09859375\n",
      " -0.0971875  -0.09578125 -0.094375   -0.09296875 -0.0915625  -0.09015625\n",
      " -0.08875    -0.08734375 -0.0859375  -0.08453125 -0.083125   -0.08171875\n",
      " -0.0803125  -0.07890625 -0.0775     -0.07609375 -0.0746875  -0.07328125\n",
      " -0.071875   -0.07046875 -0.0690625  -0.06765625 -0.06625    -0.06484375\n",
      " -0.0634375  -0.06203125 -0.060625   -0.05921875 -0.0578125  -0.05640625\n",
      " -0.055      -0.05359375 -0.0521875  -0.05078125 -0.049375   -0.04796875\n",
      " -0.0465625  -0.04515625 -0.04375    -0.04234375 -0.0409375  -0.03953125\n",
      " -0.038125   -0.03671875 -0.0353125  -0.03390625 -0.0325     -0.03109375\n",
      " -0.0296875  -0.02828125 -0.026875   -0.02546875 -0.0240625  -0.02265625\n",
      " -0.02125    -0.01984375 -0.0184375  -0.01703125 -0.015625   -0.01421875\n",
      " -0.0128125  -0.01140625 -0.01      ]\n"
     ]
    }
   ],
   "source": [
    "print(x_grid_2h)"
   ]
  },
  {
   "cell_type": "code",
   "execution_count": 202,
   "metadata": {},
   "outputs": [
    {
     "name": "stdout",
     "output_type": "stream",
     "text": [
      "[-1.   -0.91 -0.82 -0.73 -0.64 -0.55 -0.46 -0.37 -0.28 -0.19 -0.1  -0.01]\n"
     ]
    }
   ],
   "source": [
    "print(arr)"
   ]
  },
  {
   "cell_type": "code",
   "execution_count": 203,
   "metadata": {},
   "outputs": [
    {
     "name": "stdout",
     "output_type": "stream",
     "text": [
      "[0.00000000e+00 5.82066558e-02 1.49712482e-01 2.86749697e-01\n",
      " 4.86998338e-01 7.78321863e-01 1.20965551e+00 1.87808997e+00\n",
      " 3.00724644e+00 5.24014718e+00 1.13817066e+01 5.74675202e-03\n",
      " 7.60085488e-03 1.02528758e-02 1.42208168e-02 2.04906292e-02\n",
      " 3.10948671e-02 5.06794956e-02 9.14465974e-02 1.92458382e-01\n",
      " 5.24072907e-01 2.40569600e+00]\n"
     ]
    }
   ],
   "source": [
    "print(diff_y_h_y_2h)"
   ]
  },
  {
   "cell_type": "code",
   "execution_count": 204,
   "metadata": {},
   "outputs": [
    {
     "name": "stdout",
     "output_type": "stream",
     "text": [
      "Accuracy:  1.6259580862439371 < 10**(-4)\n"
     ]
    }
   ],
   "source": [
    "print('Accuracy: ', diff_y_h_y_2h.max() / (2**3 - 1), '< 10**(-4)')"
   ]
  },
  {
   "cell_type": "code",
   "execution_count": 200,
   "metadata": {},
   "outputs": [
    {
     "data": {
      "image/png": "[encoded data removed]",
      "text/plain": [
       "<Figure size 576x1008 with 1 Axes>"
      ]
     },
     "metadata": {
      "needs_background": "light"
     },
     "output_type": "display_data"
    }
   ],
   "source": [
    "fig, ax = create_plot(10,10)\n",
    "ax.plot(x_grid_2h, y_grid_2h, label=f'h = {h_2}')\n",
    "ax.scatter(x_grid_2h, y_grid_2h)\n",
    "\n",
    "ax.plot(x_grid, y_grid, label= f'h = {h}')\n",
    "ax.scatter(x_grid, y_grid)\n",
    "\n",
    "\n",
    "#ax.set_xlabel('$x_n$', fontsize=32)\n",
    "#ax.set_ylabel('$y_n$', fontsize=32)\n",
    "ax.legend(fontsize=28)\n",
    "fig.set_figwidth(8)\n",
    "fig.set_figheight(14)\n",
    "fig.tight_layout()\n",
    "fig.savefig(f'graphs/plot_{2}.pdf')"
   ]
  },
  {
   "cell_type": "code",
   "execution_count": null,
   "metadata": {},
   "outputs": [],
   "source": []
  },
  {
   "cell_type": "code",
   "execution_count": null,
   "metadata": {},
   "outputs": [],
   "source": []
  }
 ],
 "metadata": {
  "kernelspec": {
   "display_name": "Python 3",
   "language": "python",
   "name": "python3"
  },
  "language_info": {
   "codemirror_mode": {
    "name": "ipython",
    "version": 3
   },
   "file_extension": ".py",
   "mimetype": "text/x-python",
   "name": "python",
   "nbconvert_exporter": "python",
   "pygments_lexer": "ipython3",
   "version": "3.6.9"
  }
 },
 "nbformat": 4,
 "nbformat_minor": 4
}
