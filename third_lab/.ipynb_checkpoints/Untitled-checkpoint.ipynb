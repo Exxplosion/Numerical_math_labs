{
 "cells": [
  {
   "cell_type": "code",
   "execution_count": 6,
   "metadata": {},
   "outputs": [],
   "source": [
    "from math import sqrt\n",
    "import numpy as np\n",
    "import sympy as sm\n",
    "\n",
    "import matplotlib.pyplot as plt\n",
    "import pandas as pd\n",
    "#from scipy.optimize import curve_fit\n",
    "from lab_processing import print_errors, create_plot"
   ]
  },
  {
   "cell_type": "code",
   "execution_count": 7,
   "metadata": {},
   "outputs": [],
   "source": [
    "def func(x,y):\n",
    "    return ((4*x + 1)*y - 4*x - y**2)/(x*(2*x-1))"
   ]
  },
  {
   "cell_type": "code",
   "execution_count": null,
   "metadata": {},
   "outputs": [],
   "source": []
  },
  {
   "cell_type": "code",
   "execution_count": 8,
   "metadata": {},
   "outputs": [],
   "source": [
    "x, y = sm.symbols('x y')"
   ]
  },
  {
   "cell_type": "code",
   "execution_count": 9,
   "metadata": {},
   "outputs": [],
   "source": [
    "#y' = f\n",
    "#f = (- 2*x**2 + y**2 - 3*x*y)/(x**2 - x*y)\n",
    "f = 3*x * y + x*y**2\n",
    "#f = x**3 + (2*x**2 + 1)*y + x*y**2\n",
    "#x ∈ (x_0; x_N)\n",
    "x_0 = 1\n",
    "x_N = 2\n",
    "#accuracy\n",
    "epsln = 10**(-4)\n",
    "#y(x_0) = ...\n",
    "y_0 = 2\n",
    "#initial number of grid nodes\n",
    "N_nodes = 1000\n",
    "#initial grid step\n",
    "h = (x_N - x_0)/N_nodes\n",
    "#h = 0.02727272727272727/2"
   ]
  },
  {
   "cell_type": "code",
   "execution_count": 10,
   "metadata": {},
   "outputs": [
    {
     "data": {
      "text/latex": [
       "$\\displaystyle x y^{2} + 3 x y$"
      ],
      "text/plain": [
       "x*y**2 + 3*x*y"
      ]
     },
     "execution_count": 10,
     "metadata": {},
     "output_type": "execute_result"
    }
   ],
   "source": [
    "f"
   ]
  },
  {
   "cell_type": "code",
   "execution_count": 11,
   "metadata": {},
   "outputs": [],
   "source": [
    "#x_grid, h = np.linspace(x_0, x_N, N_nodes, retstep = True)\n",
    "x_grid = np.arange(x_0, x_N, h)\n",
    "y_grid = np.empty(x_grid.size)\n",
    "y_grid[0] = y_0"
   ]
  },
  {
   "cell_type": "code",
   "execution_count": 12,
   "metadata": {},
   "outputs": [],
   "source": [
    "#for i in range(1, x_grid.size):\n",
    " #    y_grid[i] = y_grid[i-1] + h * \\\n",
    "  #              func(x_grid[i-1] + h/2, y_grid[i-1] + h/2*func(x_grid[i-1], y_grid[i-1]))"
   ]
  },
  {
   "cell_type": "code",
   "execution_count": 13,
   "metadata": {},
   "outputs": [],
   "source": [
    "#for i in range(1, x_grid.size):\n",
    "#    y_grid[i] = y_grid[i-1] + \\\n",
    "#               h*f.subs([(x, x_grid[i-1] + h/2), \\\n",
    "#                       (y, y_grid[i-1] + h/2*f.subs([(x, x_grid[i-1]), \\\n",
    "#                                                     (y, y_grid[i-1])]) \\\n",
    "#                       )])"
   ]
  },
  {
   "cell_type": "code",
   "execution_count": 14,
   "metadata": {},
   "outputs": [],
   "source": [
    "for i in range(1, x_grid.size):\n",
    "    y_grid[i] = y_grid[i-1] + \\\n",
    "    h/4 * (func(x_grid[i-1], y_grid[i-1]) + \\\n",
    "     2*func(x_grid[i-1] + 2/3*h, y_grid[i-1] + \\\n",
    "            2/3*h*func(x_grid[i-1], y_grid[i-1])) + \\\n",
    "     func(x_grid[i-1] + 2/3*h, -1/3*h*func(x_grid[i-1], y_grid[i-1] + \\\n",
    "                                          h*func(x_grid[i-1] + 2/3*h, y_grid[i-1] + \\\n",
    "            2/3*h*func(x_grid[i-1], y_grid[i-1])))))"
   ]
  },
  {
   "cell_type": "code",
   "execution_count": 22,
   "metadata": {},
   "outputs": [
    {
     "name": "stdout",
     "output_type": "stream",
     "text": [
      "[2.         2.05381559 2.1136644  2.17781009 2.24522104 2.31523446\n",
      " 2.38739793 2.46138742 2.53696153 2.61393456]\n"
     ]
    }
   ],
   "source": [
    "print(y_grid)"
   ]
  },
  {
   "cell_type": "code",
   "execution_count": 16,
   "metadata": {},
   "outputs": [],
   "source": [
    "#x_grid_2h, h_2 = np.linspace(x_0, x_N, 2*N_nodes + 1, retstep = True)\n",
    "N_nodes = 88*8\n",
    "k = int (704/N_nodes)\n",
    "#initial grid step\n",
    "h_2 = (x_N - x_0)/N_nodes\n",
    "#h = 0.02727272727272727/2\n",
    "x_grid_2h = np.arange(x_0, x_N + 0.001, h_2)\n",
    "y_grid_2h = np.empty(x_grid_2h.size)\n",
    "y_grid_2h[0] = y_0\n",
    "for i in range(1, x_grid_2h.size):\n",
    "    y_grid_2h[i] = y_grid_2h[i-1] + \\\n",
    "                h_2*f.subs([(x, x_grid_2h[i-1] + h_2/2), \\\n",
    "                        (y, y_grid_2h[i-1] + h_2/2*f.subs([(x, x_grid_2h[i-1]), \\\n",
    "                                                      (y, y_grid_2h[i-1])]) \\\n",
    "                        )])"
   ]
  },
  {
   "cell_type": "code",
   "execution_count": 17,
   "metadata": {},
   "outputs": [
    {
     "name": "stdout",
     "output_type": "stream",
     "text": [
      "[2.00000000e+000 2.01428537e+000 2.02873477e+000 2.04335084e+000\n",
      " 2.05813631e+000 2.07309396e+000 2.08822663e+000 2.10353722e+000\n",
      " 2.11902869e+000 2.13470409e+000 2.15056650e+000 2.16661909e+000\n",
      " 2.18286512e+000 2.19930788e+000 2.21595077e+000 2.23279726e+000\n",
      " 2.24985089e+000 2.26711529e+000 2.28459417e+000 2.30229134e+000\n",
      " 2.32021069e+000 2.33835619e+000 2.35673193e+000 2.37534209e+000\n",
      " 2.39419093e+000 2.41328284e+000 2.43262232e+000 2.45221395e+000\n",
      " 2.47206244e+000 2.49217264e+000 2.51254949e+000 2.53319806e+000\n",
      " 2.55412357e+000 2.57533134e+000 2.59682686e+000 2.61861573e+000\n",
      " 2.64070373e+000 2.66309677e+000 2.68580092e+000 2.70882241e+000\n",
      " 2.73216764e+000 2.75584317e+000 2.77985577e+000 2.80421236e+000\n",
      " 2.82892006e+000 2.85398620e+000 2.87941830e+000 2.90522411e+000\n",
      " 2.93141156e+000 2.95798885e+000 2.98496439e+000 3.01234684e+000\n",
      " 3.04014511e+000 3.06836837e+000 3.09702607e+000 3.12612793e+000\n",
      " 3.15568395e+000 3.18570447e+000 3.21620011e+000 3.24718182e+000\n",
      " 3.27866090e+000 3.31064900e+000 3.34315812e+000 3.37620067e+000\n",
      " 3.40978942e+000 3.44393757e+000 3.47865875e+000 3.51396702e+000\n",
      " 3.54987691e+000 3.58640345e+000 3.62356214e+000 3.66136902e+000\n",
      " 3.69984069e+000 3.73899429e+000 3.77884757e+000 3.81941890e+000\n",
      " 3.86072731e+000 3.90279247e+000 3.94563479e+000 3.98927541e+000\n",
      " 4.03373622e+000 4.07903995e+000 4.12521016e+000 4.17227128e+000\n",
      " 4.22024870e+000 4.26916874e+000 4.31905878e+000 4.36994723e+000\n",
      " 4.42186365e+000 4.47483875e+000 4.52890449e+000 4.58409412e+000\n",
      " 4.64044226e+000 4.69798496e+000 4.75675977e+000 4.81680586e+000\n",
      " 4.87816403e+000 4.94087688e+000 5.00498886e+000 5.07054637e+000\n",
      " 5.13759790e+000 5.20619413e+000 5.27638804e+000 5.34823507e+000\n",
      " 5.42179326e+000 5.49712338e+000 5.57428911e+000 5.65335723e+000\n",
      " 5.73439778e+000 5.81748428e+000 5.90269397e+000 5.99010799e+000\n",
      " 6.07981167e+000 6.17189483e+000 6.26645201e+000 6.36358283e+000\n",
      " 6.46339234e+000 6.56599137e+000 6.67149694e+000 6.78003273e+000\n",
      " 6.89172950e+000 7.00672566e+000 7.12516780e+000 7.24721133e+000\n",
      " 7.37302114e+000 7.50277234e+000 7.63665105e+000 7.77485528e+000\n",
      " 7.91759593e+000 8.06509782e+000 8.21760086e+000 8.37536134e+000\n",
      " 8.53865337e+000 8.70777044e+000 8.88302717e+000 9.06476121e+000\n",
      " 9.25333547e+000 9.44914043e+000 9.65259687e+000 9.86415885e+000\n",
      " 1.00843171e+001 1.03136026e+001 1.05525912e+001 1.08019081e+001\n",
      " 1.10622333e+001 1.13343078e+001 1.16189407e+001 1.19170171e+001\n",
      " 1.22295071e+001 1.25574766e+001 1.29020989e+001 1.32646691e+001\n",
      " 1.36466201e+001 1.40495414e+001 1.44752008e+001 1.49255710e+001\n",
      " 1.54028589e+001 1.59095425e+001 1.64484133e+001 1.70226273e+001\n",
      " 1.76357671e+001 1.82919155e+001 1.89957469e+001 1.97526378e+001\n",
      " 2.05688034e+001 2.14514682e+001 2.24090792e+001 2.34515749e+001\n",
      " 2.45907304e+001 2.58406004e+001 2.72180987e+001 2.87437629e+001\n",
      " 3.04427772e+001 3.23463633e+001 3.44936995e+001 3.69346213e+001\n",
      " 3.97334977e+001 4.29749256e+001 4.67723198e+001 5.12812631e+001\n",
      " 5.67209960e+001 6.34104442e+001 7.18316292e+001 8.27480054e+001\n",
      " 9.74418384e+001 1.18235845e+002 1.49784353e+002 2.02831631e+002\n",
      " 3.08048281e+002 5.90114379e+002 2.07297140e+003 6.60922251e+004\n",
      " 2.90597467e+010 1.05399293e+033 1.83009733e+123             inf\n",
      "             inf             inf             inf             inf\n",
      "             inf             inf             inf             inf\n",
      "             inf             inf             inf             inf\n",
      "             inf             inf             inf             inf\n",
      "             inf             inf             inf             inf\n",
      "             inf             inf             inf             inf\n",
      "             inf             inf             inf             inf\n",
      "             inf             inf             inf             inf\n",
      "             inf             inf             inf             inf\n",
      "             inf             inf             inf             inf\n",
      "             inf             inf             inf             inf\n",
      "             inf             inf             inf             inf\n",
      "             inf             inf             inf             inf\n",
      "             inf             inf             inf             inf\n",
      "             inf             inf             inf             inf\n",
      "             inf             inf             inf             inf\n",
      "             inf             inf             inf             inf\n",
      "             inf             inf             inf             inf\n",
      "             inf             inf             inf             inf\n",
      "             inf             inf             inf             inf\n",
      "             inf             inf             inf             inf\n",
      "             inf             inf             inf             inf\n",
      "             inf             inf             inf             inf\n",
      "             inf             inf             inf             inf\n",
      "             inf             inf             inf             inf\n",
      "             inf             inf             inf             inf\n",
      "             inf             inf             inf             inf\n",
      "             inf             inf             inf             inf\n",
      "             inf             inf             inf             inf\n",
      "             inf             inf             inf             inf\n",
      "             inf             inf             inf             inf\n",
      "             inf             inf             inf             inf\n",
      "             inf             inf             inf             inf\n",
      "             inf             inf             inf             inf\n",
      "             inf             inf             inf             inf\n",
      "             inf             inf             inf             inf\n",
      "             inf             inf             inf             inf\n",
      "             inf             inf             inf             inf\n",
      "             inf             inf             inf             inf\n",
      "             inf             inf             inf             inf\n",
      "             inf             inf             inf             inf\n",
      "             inf             inf             inf             inf\n",
      "             inf             inf             inf             inf\n",
      "             inf             inf             inf             inf\n",
      "             inf             inf             inf             inf\n",
      "             inf             inf             inf             inf\n",
      "             inf             inf             inf             inf\n",
      "             inf             inf             inf             inf\n",
      "             inf             inf             inf             inf\n",
      "             inf             inf             inf             inf\n",
      "             inf             inf             inf             inf\n",
      "             inf             inf             inf             inf\n",
      "             inf             inf             inf             inf\n",
      "             inf             inf             inf             inf\n",
      "             inf             inf             inf             inf\n",
      "             inf             inf             inf             inf\n",
      "             inf             inf             inf             inf\n",
      "             inf             inf             inf             inf\n",
      "             inf             inf             inf             inf\n",
      "             inf             inf             inf             inf\n",
      "             inf             inf             inf             inf\n",
      "             inf             inf             inf             inf\n",
      "             inf             inf             inf             inf\n",
      "             inf             inf             inf             inf\n",
      "             inf             inf             inf             inf\n",
      "             inf             inf             inf             inf\n",
      "             inf             inf             inf             inf\n",
      "             inf             inf             inf             inf\n",
      "             inf             inf             inf             inf\n",
      "             inf             inf             inf             inf\n",
      "             inf             inf             inf             inf\n",
      "             inf             inf             inf             inf\n",
      "             inf             inf             inf             inf\n",
      "             inf             inf             inf             inf\n",
      "             inf             inf             inf             inf\n",
      "             inf             inf             inf             inf\n",
      "             inf             inf             inf             inf\n",
      "             inf             inf             inf             inf\n",
      "             inf             inf             inf             inf\n",
      "             inf             inf             inf             inf\n",
      "             inf             inf             inf             inf\n",
      "             inf             inf             inf             inf\n",
      "             inf             inf             inf             inf\n",
      "             inf             inf             inf             inf\n",
      "             inf             inf             inf             inf\n",
      "             inf             inf             inf             inf\n",
      "             inf             inf             inf             inf\n",
      "             inf             inf             inf             inf\n",
      "             inf             inf             inf             inf\n",
      "             inf             inf             inf             inf\n",
      "             inf             inf             inf             inf\n",
      "             inf             inf             inf             inf\n",
      "             inf             inf             inf             inf\n",
      "             inf             inf             inf             inf\n",
      "             inf             inf             inf             inf\n",
      "             inf             inf             inf             inf\n",
      "             inf             inf             inf             inf\n",
      "             inf             inf             inf             inf\n",
      "             inf             inf             inf             inf\n",
      "             inf             inf             inf             inf\n",
      "             inf             inf             inf             inf\n",
      "             inf             inf             inf             inf\n",
      "             inf             inf             inf             inf\n",
      "             inf             inf             inf             inf\n",
      "             inf             inf             inf             inf\n",
      "             inf             inf             inf             inf\n",
      "             inf             inf             inf             inf\n",
      "             inf             inf             inf             inf\n",
      "             inf             inf             inf             inf\n",
      "             inf             inf             inf             inf\n",
      "             inf             inf             inf             inf\n",
      "             inf             inf             inf             inf\n",
      "             inf             inf             inf             inf\n",
      "             inf             inf             inf             inf\n",
      "             inf             inf             inf             inf\n",
      "             inf             inf             inf             inf\n",
      "             inf             inf             inf             inf\n",
      "             inf             inf             inf             inf\n",
      "             inf             inf             inf             inf\n",
      "             inf             inf             inf             inf\n",
      "             inf             inf             inf             inf\n",
      "             inf             inf             inf             inf\n",
      "             inf             inf             inf             inf\n",
      "             inf             inf             inf             inf\n",
      "             inf             inf             inf             inf\n",
      "             inf             inf             inf             inf\n",
      "             inf             inf             inf             inf\n",
      "             inf]\n"
     ]
    }
   ],
   "source": [
    "print(y_grid_2h)"
   ]
  },
  {
   "cell_type": "code",
   "execution_count": 18,
   "metadata": {},
   "outputs": [],
   "source": [
    "k = int (k)"
   ]
  },
  {
   "cell_type": "code",
   "execution_count": 19,
   "metadata": {},
   "outputs": [
    {
     "data": {
      "text/plain": [
       "1"
      ]
     },
     "execution_count": 19,
     "metadata": {},
     "output_type": "execute_result"
    }
   ],
   "source": [
    "k"
   ]
  },
  {
   "cell_type": "code",
   "execution_count": 23,
   "metadata": {
    "scrolled": false
   },
   "outputs": [
    {
     "data": {
      "text/html": [
       "<div>\n",
       "<style scoped>\n",
       "    .dataframe tbody tr th:only-of-type {\n",
       "        vertical-align: middle;\n",
       "    }\n",
       "\n",
       "    .dataframe tbody tr th {\n",
       "        vertical-align: top;\n",
       "    }\n",
       "\n",
       "    .dataframe thead th {\n",
       "        text-align: right;\n",
       "    }\n",
       "</style>\n",
       "<table border=\"1\" class=\"dataframe\">\n",
       "  <thead>\n",
       "    <tr style=\"text-align: right;\">\n",
       "      <th></th>\n",
       "      <th>0</th>\n",
       "      <th>1</th>\n",
       "      <th>2</th>\n",
       "      <th>3</th>\n",
       "      <th>4</th>\n",
       "      <th>5</th>\n",
       "      <th>6</th>\n",
       "      <th>7</th>\n",
       "      <th>8</th>\n",
       "      <th>9</th>\n",
       "      <th>...</th>\n",
       "      <th>695</th>\n",
       "      <th>696</th>\n",
       "      <th>697</th>\n",
       "      <th>698</th>\n",
       "      <th>699</th>\n",
       "      <th>700</th>\n",
       "      <th>701</th>\n",
       "      <th>702</th>\n",
       "      <th>703</th>\n",
       "      <th>704</th>\n",
       "    </tr>\n",
       "  </thead>\n",
       "  <tbody>\n",
       "    <tr>\n",
       "      <th>x_2</th>\n",
       "      <td>1.0</td>\n",
       "      <td>1.001420</td>\n",
       "      <td>1.002841</td>\n",
       "      <td>1.004261</td>\n",
       "      <td>1.005682</td>\n",
       "      <td>1.007102</td>\n",
       "      <td>1.008523</td>\n",
       "      <td>1.009943</td>\n",
       "      <td>1.011364</td>\n",
       "      <td>1.012784</td>\n",
       "      <td>...</td>\n",
       "      <td>1.987216</td>\n",
       "      <td>1.988636</td>\n",
       "      <td>1.990057</td>\n",
       "      <td>1.991477</td>\n",
       "      <td>1.992898</td>\n",
       "      <td>1.994318</td>\n",
       "      <td>1.995739</td>\n",
       "      <td>1.997159</td>\n",
       "      <td>1.99858</td>\n",
       "      <td>2.0</td>\n",
       "    </tr>\n",
       "    <tr>\n",
       "      <th>y_2</th>\n",
       "      <td>2.0</td>\n",
       "      <td>2.014285</td>\n",
       "      <td>2.028735</td>\n",
       "      <td>2.043351</td>\n",
       "      <td>2.058136</td>\n",
       "      <td>2.073094</td>\n",
       "      <td>2.088227</td>\n",
       "      <td>2.103537</td>\n",
       "      <td>2.119029</td>\n",
       "      <td>2.134704</td>\n",
       "      <td>...</td>\n",
       "      <td>inf</td>\n",
       "      <td>inf</td>\n",
       "      <td>inf</td>\n",
       "      <td>inf</td>\n",
       "      <td>inf</td>\n",
       "      <td>inf</td>\n",
       "      <td>inf</td>\n",
       "      <td>inf</td>\n",
       "      <td>inf</td>\n",
       "      <td>inf</td>\n",
       "    </tr>\n",
       "  </tbody>\n",
       "</table>\n",
       "<p>2 rows × 705 columns</p>\n",
       "</div>"
      ],
      "text/plain": [
       "     0         1         2         3         4         5         6    \\\n",
       "x_2  1.0  1.001420  1.002841  1.004261  1.005682  1.007102  1.008523   \n",
       "y_2  2.0  2.014285  2.028735  2.043351  2.058136  2.073094  2.088227   \n",
       "\n",
       "          7         8         9    ...       695       696       697  \\\n",
       "x_2  1.009943  1.011364  1.012784  ...  1.987216  1.988636  1.990057   \n",
       "y_2  2.103537  2.119029  2.134704  ...       inf       inf       inf   \n",
       "\n",
       "          698       699       700       701       702      703  704  \n",
       "x_2  1.991477  1.992898  1.994318  1.995739  1.997159  1.99858  2.0  \n",
       "y_2       inf       inf       inf       inf       inf      inf  inf  \n",
       "\n",
       "[2 rows x 705 columns]"
      ]
     },
     "execution_count": 23,
     "metadata": {},
     "output_type": "execute_result"
    }
   ],
   "source": [
    "dataset = pd.DataFrame({'x':x_grid,'y':y_grid})\n",
    "dataset_2 = pd.DataFrame({'x_2':x_grid_2h,'y_2':y_grid_2h})\n",
    "bb = dataset_2.T\n",
    "gg = dataset.T\n",
    "bb"
   ]
  },
  {
   "cell_type": "code",
   "execution_count": 32,
   "metadata": {
    "scrolled": true
   },
   "outputs": [
    {
     "data": {
      "text/html": [
       "<div>\n",
       "<style scoped>\n",
       "    .dataframe tbody tr th:only-of-type {\n",
       "        vertical-align: middle;\n",
       "    }\n",
       "\n",
       "    .dataframe tbody tr th {\n",
       "        vertical-align: top;\n",
       "    }\n",
       "\n",
       "    .dataframe thead th {\n",
       "        text-align: right;\n",
       "    }\n",
       "</style>\n",
       "<table border=\"1\" class=\"dataframe\">\n",
       "  <thead>\n",
       "    <tr style=\"text-align: right;\">\n",
       "      <th></th>\n",
       "      <th>0</th>\n",
       "      <th>1</th>\n",
       "      <th>2</th>\n",
       "      <th>3</th>\n",
       "      <th>4</th>\n",
       "      <th>5</th>\n",
       "      <th>6</th>\n",
       "      <th>7</th>\n",
       "      <th>8</th>\n",
       "      <th>9</th>\n",
       "    </tr>\n",
       "  </thead>\n",
       "  <tbody>\n",
       "    <tr>\n",
       "      <th>x</th>\n",
       "      <td>1.0</td>\n",
       "      <td>1.100000</td>\n",
       "      <td>1.200000</td>\n",
       "      <td>1.30000</td>\n",
       "      <td>1.400000</td>\n",
       "      <td>1.500000</td>\n",
       "      <td>1.600000</td>\n",
       "      <td>1.700000</td>\n",
       "      <td>1.800000</td>\n",
       "      <td>1.900000</td>\n",
       "    </tr>\n",
       "    <tr>\n",
       "      <th>y</th>\n",
       "      <td>2.0</td>\n",
       "      <td>2.053816</td>\n",
       "      <td>2.113664</td>\n",
       "      <td>2.17781</td>\n",
       "      <td>2.245221</td>\n",
       "      <td>2.315234</td>\n",
       "      <td>2.387398</td>\n",
       "      <td>2.461387</td>\n",
       "      <td>2.536962</td>\n",
       "      <td>2.613935</td>\n",
       "    </tr>\n",
       "  </tbody>\n",
       "</table>\n",
       "</div>"
      ],
      "text/plain": [
       "     0         1         2        3         4         5         6         7  \\\n",
       "x  1.0  1.100000  1.200000  1.30000  1.400000  1.500000  1.600000  1.700000   \n",
       "y  2.0  2.053816  2.113664  2.17781  2.245221  2.315234  2.387398  2.461387   \n",
       "\n",
       "          8         9  \n",
       "x  1.800000  1.900000  \n",
       "y  2.536962  2.613935  "
      ]
     },
     "execution_count": 32,
     "metadata": {},
     "output_type": "execute_result"
    }
   ],
   "source": [
    "gg"
   ]
  },
  {
   "cell_type": "code",
   "execution_count": 25,
   "metadata": {
    "scrolled": true
   },
   "outputs": [
    {
     "data": {
      "text/html": [
       "<div>\n",
       "<style scoped>\n",
       "    .dataframe tbody tr th:only-of-type {\n",
       "        vertical-align: middle;\n",
       "    }\n",
       "\n",
       "    .dataframe tbody tr th {\n",
       "        vertical-align: top;\n",
       "    }\n",
       "\n",
       "    .dataframe thead th {\n",
       "        text-align: right;\n",
       "    }\n",
       "</style>\n",
       "<table border=\"1\" class=\"dataframe\">\n",
       "  <thead>\n",
       "    <tr style=\"text-align: right;\">\n",
       "      <th></th>\n",
       "      <th>0</th>\n",
       "      <th>1</th>\n",
       "      <th>2</th>\n",
       "      <th>3</th>\n",
       "      <th>4</th>\n",
       "      <th>5</th>\n",
       "      <th>6</th>\n",
       "      <th>7</th>\n",
       "      <th>8</th>\n",
       "      <th>9</th>\n",
       "      <th>...</th>\n",
       "      <th>695</th>\n",
       "      <th>696</th>\n",
       "      <th>697</th>\n",
       "      <th>698</th>\n",
       "      <th>699</th>\n",
       "      <th>700</th>\n",
       "      <th>701</th>\n",
       "      <th>702</th>\n",
       "      <th>703</th>\n",
       "      <th>704</th>\n",
       "    </tr>\n",
       "  </thead>\n",
       "  <tbody>\n",
       "    <tr>\n",
       "      <th>x_2</th>\n",
       "      <td>1.0</td>\n",
       "      <td>1.001420</td>\n",
       "      <td>1.002841</td>\n",
       "      <td>1.004261</td>\n",
       "      <td>1.005682</td>\n",
       "      <td>1.007102</td>\n",
       "      <td>1.008523</td>\n",
       "      <td>1.009943</td>\n",
       "      <td>1.011364</td>\n",
       "      <td>1.012784</td>\n",
       "      <td>...</td>\n",
       "      <td>1.987216</td>\n",
       "      <td>1.988636</td>\n",
       "      <td>1.990057</td>\n",
       "      <td>1.991477</td>\n",
       "      <td>1.992898</td>\n",
       "      <td>1.994318</td>\n",
       "      <td>1.995739</td>\n",
       "      <td>1.997159</td>\n",
       "      <td>1.99858</td>\n",
       "      <td>2.0</td>\n",
       "    </tr>\n",
       "    <tr>\n",
       "      <th>y_2</th>\n",
       "      <td>2.0</td>\n",
       "      <td>2.014285</td>\n",
       "      <td>2.028735</td>\n",
       "      <td>2.043351</td>\n",
       "      <td>2.058136</td>\n",
       "      <td>2.073094</td>\n",
       "      <td>2.088227</td>\n",
       "      <td>2.103537</td>\n",
       "      <td>2.119029</td>\n",
       "      <td>2.134704</td>\n",
       "      <td>...</td>\n",
       "      <td>inf</td>\n",
       "      <td>inf</td>\n",
       "      <td>inf</td>\n",
       "      <td>inf</td>\n",
       "      <td>inf</td>\n",
       "      <td>inf</td>\n",
       "      <td>inf</td>\n",
       "      <td>inf</td>\n",
       "      <td>inf</td>\n",
       "      <td>inf</td>\n",
       "    </tr>\n",
       "  </tbody>\n",
       "</table>\n",
       "<p>2 rows × 705 columns</p>\n",
       "</div>"
      ],
      "text/plain": [
       "     0         1         2         3         4         5         6    \\\n",
       "x_2  1.0  1.001420  1.002841  1.004261  1.005682  1.007102  1.008523   \n",
       "y_2  2.0  2.014285  2.028735  2.043351  2.058136  2.073094  2.088227   \n",
       "\n",
       "          7         8         9    ...       695       696       697  \\\n",
       "x_2  1.009943  1.011364  1.012784  ...  1.987216  1.988636  1.990057   \n",
       "y_2  2.103537  2.119029  2.134704  ...       inf       inf       inf   \n",
       "\n",
       "          698       699       700       701       702      703  704  \n",
       "x_2  1.991477  1.992898  1.994318  1.995739  1.997159  1.99858  2.0  \n",
       "y_2       inf       inf       inf       inf       inf      inf  inf  \n",
       "\n",
       "[2 rows x 705 columns]"
      ]
     },
     "execution_count": 25,
     "metadata": {},
     "output_type": "execute_result"
    }
   ],
   "source": [
    "bb"
   ]
  },
  {
   "cell_type": "code",
   "execution_count": 26,
   "metadata": {},
   "outputs": [],
   "source": [
    "diff_y_h_y_2h = np.empty(y_grid_2h.size)"
   ]
  },
  {
   "cell_type": "code",
   "execution_count": 92,
   "metadata": {},
   "outputs": [],
   "source": [
    "N_nodes = 1000\n",
    "#initial grid step\n",
    "h_2 = (x_N - x_0)/N_nodes\n",
    "#h = 0.02727272727272727/2\n",
    "x_grid_2h = np.arange(x_0, x_N , h_2)\n",
    "y_grid_2h = np.empty(x_grid_2h.size)\n",
    "y_grid_2h[0] = y_0\n",
    "for i in range(1, x_grid_2h.size):\n",
    "    y_grid_2h[i] = y_grid_2h[i-1] + \\\n",
    "    h_2/4 * (func(x_grid_2h[i-1], y_grid_2h[i-1]) + \\\n",
    "     2*func(x_grid_2h[i-1] + 2/3*h_2, y_grid_2h[i-1] + \\\n",
    "            2/3*h_2*func(x_grid_2h[i-1], y_grid_2h[i-1])) + \\\n",
    "     func(x_grid_2h[i-1] + 2/3*h_2, -1/3*h_2*func(x_grid_2h[i-1], y_grid_2h[i-1] + \\\n",
    "                                          h_2*func(x_grid_2h[i-1] + 2/3*h_2, y_grid_2h[i-1] + \\\n",
    "            2/3*h_2*func(x_grid_2h[i-1], y_grid_2h[i-1])))))"
   ]
  },
  {
   "cell_type": "code",
   "execution_count": null,
   "metadata": {},
   "outputs": [],
   "source": []
  },
  {
   "cell_type": "code",
   "execution_count": 93,
   "metadata": {},
   "outputs": [
    {
     "data": {
      "text/html": [
       "<div>\n",
       "<style scoped>\n",
       "    .dataframe tbody tr th:only-of-type {\n",
       "        vertical-align: middle;\n",
       "    }\n",
       "\n",
       "    .dataframe tbody tr th {\n",
       "        vertical-align: top;\n",
       "    }\n",
       "\n",
       "    .dataframe thead th {\n",
       "        text-align: right;\n",
       "    }\n",
       "</style>\n",
       "<table border=\"1\" class=\"dataframe\">\n",
       "  <thead>\n",
       "    <tr style=\"text-align: right;\">\n",
       "      <th></th>\n",
       "      <th>x_2</th>\n",
       "      <th>y_2</th>\n",
       "    </tr>\n",
       "  </thead>\n",
       "  <tbody>\n",
       "    <tr>\n",
       "      <th>0</th>\n",
       "      <td>1.000</td>\n",
       "      <td>2.000000</td>\n",
       "    </tr>\n",
       "    <tr>\n",
       "      <th>1</th>\n",
       "      <td>1.001</td>\n",
       "      <td>2.000500</td>\n",
       "    </tr>\n",
       "    <tr>\n",
       "      <th>2</th>\n",
       "      <td>1.002</td>\n",
       "      <td>2.001002</td>\n",
       "    </tr>\n",
       "    <tr>\n",
       "      <th>3</th>\n",
       "      <td>1.003</td>\n",
       "      <td>2.001504</td>\n",
       "    </tr>\n",
       "    <tr>\n",
       "      <th>4</th>\n",
       "      <td>1.004</td>\n",
       "      <td>2.002007</td>\n",
       "    </tr>\n",
       "    <tr>\n",
       "      <th>...</th>\n",
       "      <td>...</td>\n",
       "      <td>...</td>\n",
       "    </tr>\n",
       "    <tr>\n",
       "      <th>995</th>\n",
       "      <td>1.995</td>\n",
       "      <td>2.688346</td>\n",
       "    </tr>\n",
       "    <tr>\n",
       "      <th>996</th>\n",
       "      <td>1.996</td>\n",
       "      <td>2.689135</td>\n",
       "    </tr>\n",
       "    <tr>\n",
       "      <th>997</th>\n",
       "      <td>1.997</td>\n",
       "      <td>2.689924</td>\n",
       "    </tr>\n",
       "    <tr>\n",
       "      <th>998</th>\n",
       "      <td>1.998</td>\n",
       "      <td>2.690713</td>\n",
       "    </tr>\n",
       "    <tr>\n",
       "      <th>999</th>\n",
       "      <td>1.999</td>\n",
       "      <td>2.691502</td>\n",
       "    </tr>\n",
       "  </tbody>\n",
       "</table>\n",
       "<p>1000 rows × 2 columns</p>\n",
       "</div>"
      ],
      "text/plain": [
       "       x_2       y_2\n",
       "0    1.000  2.000000\n",
       "1    1.001  2.000500\n",
       "2    1.002  2.001002\n",
       "3    1.003  2.001504\n",
       "4    1.004  2.002007\n",
       "..     ...       ...\n",
       "995  1.995  2.688346\n",
       "996  1.996  2.689135\n",
       "997  1.997  2.689924\n",
       "998  1.998  2.690713\n",
       "999  1.999  2.691502\n",
       "\n",
       "[1000 rows x 2 columns]"
      ]
     },
     "execution_count": 93,
     "metadata": {},
     "output_type": "execute_result"
    }
   ],
   "source": [
    "dataset_2 = pd.DataFrame({'x_2':x_grid_2h,'y_2':y_grid_2h})\n",
    "dataset_2"
   ]
  },
  {
   "cell_type": "code",
   "execution_count": 94,
   "metadata": {},
   "outputs": [
    {
     "name": "stdout",
     "output_type": "stream",
     "text": [
      "2.0\n",
      "2.0\n",
      "0.0\n",
      "2.053815588235294\n",
      "2.0538191099823915\n",
      "3.5217470975013043e-06\n",
      "2.1136643959908104\n",
      "2.1135930937809446\n",
      "7.130220986573121e-05\n",
      "2.1778100880268703\n",
      "2.177660742134861\n",
      "0.00014934589200921167\n",
      "2.2452210433512496\n",
      "2.2450177840313694\n",
      "0.00020325931988018908\n",
      "2.3152344611225164\n",
      "2.3150101121475863\n",
      "0.00022434897493006645\n",
      "2.387397934085212\n",
      "2.3871864733788994\n",
      "0.0002114607063123941\n",
      "2.461387416997219\n",
      "2.4612209816895105\n",
      "0.00016643530770865667\n",
      "2.5369615304034063\n",
      "2.5368693589193074\n",
      "9.217148409890186e-05\n",
      "2.6139345575003414\n",
      "2.6139427689711114\n",
      "8.211470770014273e-06\n",
      "[0.00000000e+00 3.52174710e-06 7.13022099e-05 1.49345892e-04\n",
      " 2.03259320e-04 2.24348975e-04 2.11460706e-04 1.66435308e-04\n",
      " 9.21714841e-05 8.21147077e-06]\n"
     ]
    }
   ],
   "source": [
    "#0.         0.05454545 0.10909091 0.16363636 0.21818182 0.27272727\n",
    " #0.32727273 0.38181818 0.43636364 0.49090909 0.54545455 0.6\n",
    "arr = np.arange(x_0, x_N, ((x_N - x_0)/10))\n",
    "diff_y_h_y_2h = np.empty(x_grid.size)\n",
    "for i in range(0, x_grid.size):\n",
    "    #if x_grid_2h[i] in arr:\n",
    "        diff_y_h_y_2h[i] = abs(y_grid_2h[100*i] - y_grid[i])\n",
    "        print(y_grid[i])\n",
    "        print(y_grid_2h[100*i])\n",
    "        print(diff_y_h_y_2h[i])\n",
    "    #else:\n",
    "        #print(x_grid_2h[i])\n",
    "print(diff_y_h_y_2h)"
   ]
  },
  {
   "cell_type": "code",
   "execution_count": 95,
   "metadata": {},
   "outputs": [
    {
     "name": "stdout",
     "output_type": "stream",
     "text": [
      "[0.00000000e+00 3.52174710e-06 7.13022099e-05 1.49345892e-04\n",
      " 2.03259320e-04 2.24348975e-04 2.11460706e-04 1.66435308e-04\n",
      " 9.21714841e-05 8.21147077e-06]\n"
     ]
    }
   ],
   "source": [
    "print(diff_y_h_y_2h)"
   ]
  },
  {
   "cell_type": "code",
   "execution_count": 96,
   "metadata": {},
   "outputs": [
    {
     "name": "stdout",
     "output_type": "stream",
     "text": [
      "Accuracy:  3.204985356143807e-05 < 10**(-4)\n"
     ]
    }
   ],
   "source": [
    "print('Accuracy: ', diff_y_h_y_2h.max() / (2**3 - 1), '< 10**(-4)')"
   ]
  },
  {
   "cell_type": "code",
   "execution_count": 100,
   "metadata": {},
   "outputs": [
    {
     "data": {
      "image/png": "[encoded data removed]",
      "text/plain": [
       "<Figure size 576x1008 with 1 Axes>"
      ]
     },
     "metadata": {
      "needs_background": "light"
     },
     "output_type": "display_data"
    }
   ],
   "source": [
    "fig, ax = create_plot(10,10)\n",
    "ax.plot(x_grid_2h, y_grid_2h, label=f'h = {h_2}')\n",
    "ax.scatter(x_grid_2h, y_grid_2h)\n",
    "\n",
    "ax.plot(x_grid, y_grid, label= f'h = {h}')\n",
    "ax.scatter(x_grid, y_grid)\n",
    "\n",
    "\n",
    "#ax.set_xlabel('$x_n$', fontsize=32)\n",
    "#ax.set_ylabel('$y_n$', fontsize=32)\n",
    "ax.legend(fontsize=28)\n",
    "fig.set_figwidth(8)\n",
    "fig.set_figheight(14)\n",
    "fig.tight_layout()\n",
    "fig.savefig(f'graphs/plot_{2}.pdf')"
   ]
  },
  {
   "cell_type": "code",
   "execution_count": null,
   "metadata": {},
   "outputs": [],
   "source": []
  },
  {
   "cell_type": "code",
   "execution_count": null,
   "metadata": {},
   "outputs": [],
   "source": []
  }
 ],
 "metadata": {
  "kernelspec": {
   "display_name": "Python 3",
   "language": "python",
   "name": "python3"
  },
  "language_info": {
   "codemirror_mode": {
    "name": "ipython",
    "version": 3
   },
   "file_extension": ".py",
   "mimetype": "text/x-python",
   "name": "python",
   "nbconvert_exporter": "python",
   "pygments_lexer": "ipython3",
   "version": "3.6.9"
  }
 },
 "nbformat": 4,
 "nbformat_minor": 4
}
